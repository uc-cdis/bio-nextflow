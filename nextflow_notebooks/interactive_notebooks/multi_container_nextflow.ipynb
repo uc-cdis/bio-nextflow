{
 "cells": [
  {
   "cell_type": "markdown",
   "id": "5880b28c-6054-42b1-8078-e1b6d2d0bbfb",
   "metadata": {},
   "source": [
    "# Multi-Container Nextflow Tutorial"
   ]
  },
  {
   "cell_type": "markdown",
   "id": "081191e1-76f3-4ccc-a2e6-acf5ea81b26d",
   "metadata": {},
   "source": [
    "## Introduction"
   ]
  },
  {
   "cell_type": "markdown",
   "id": "11edb912-214c-461c-b517-fcabf4d8061a",
   "metadata": {},
   "source": [
    "In this notebook, we will set up and explain each file in a Nextflow workflow which uses Python scripts. Our workflow consists of two Python scripts that are each executed in a different Conda environment.\n",
    "\n",
    "The workflow consists of several components: the main Nextflow script (`main.nf`), two Python scripts (`script1.py` and `script2.py`), two Conda environment files (`env1.yaml` and `env2.yaml`), and a Nextflow configuration file (`nextflow.config`).\n",
    "\n",
    "We will explain each file in the following sections. We will also show how to create the files and directories necessary for this workflow using the `%%writefile` magic command."
   ]
  },
  {
   "cell_type": "markdown",
   "id": "b7cd5b2d-b83c-48b9-9a48-98a84b7b41ed",
   "metadata": {},
   "source": [
    "## Directory Structure Setup"
   ]
  },
  {
   "cell_type": "markdown",
   "id": "9e054d3f-6a5b-498c-b4bf-b522437253ca",
   "metadata": {},
   "source": [
    "Before we start creating our files, we need to ensure that the appropriate directories are in place. Our workflow will use a specific directory structure:\n",
    "\n",
    "- Python scripts will be located in the `scripts` directory.\n",
    "- Conda environment files will be located in the `envs` directory.\n",
    "\n",
    "We can create these directories using a single line of code:"
   ]
  },
  {
   "cell_type": "code",
   "execution_count": 1,
   "id": "a7b004ec-87b8-4467-a4ef-15364646fdcb",
   "metadata": {
    "tags": []
   },
   "outputs": [],
   "source": [
    "!mkdir -p scripts envs"
   ]
  },
  {
   "cell_type": "markdown",
   "id": "06a2dce8-9e52-4fb3-8e3c-f772a44e1848",
   "metadata": {},
   "source": [
    "This command uses the mkdir (make directory) command from Unix. The `!` at the beginning of the command is a special Jupyter feature that allows us to run shell commands directly from the notebook."
   ]
  },
  {
   "cell_type": "markdown",
   "id": "15d943d9-3102-442d-a1e2-df21d4f5dc32",
   "metadata": {},
   "source": [
    "Now that we have our directories set up, we can start creating our Python scripts and Conda environment files:"
   ]
  },
  {
   "cell_type": "markdown",
   "id": "b581b391-30b6-4a82-a203-c14ba651a6ac",
   "metadata": {},
   "source": [
    "## Creating the Conda Environment Files"
   ]
  },
  {
   "cell_type": "markdown",
   "id": "14f210a8-10a8-4b9e-89ab-fd76c2003bf3",
   "metadata": {},
   "source": [
    "Next, we will create a YAML file to define our first Conda environment. This environment will be used when running `script1.py` in our Nextflow workflow."
   ]
  },
  {
   "cell_type": "code",
   "execution_count": 2,
   "id": "9bf95baf-9dda-4d95-964f-d64a5c62ca96",
   "metadata": {
    "tags": []
   },
   "outputs": [
    {
     "name": "stdout",
     "output_type": "stream",
     "text": [
      "Overwriting envs/env1.yaml\n"
     ]
    }
   ],
   "source": [
    "%%writefile envs/env1.yaml\n",
    "\n",
    "name: env1\n",
    "channels:\n",
    "  - defaults\n",
    "dependencies:\n",
    "  - python\n",
    "  - numpy"
   ]
  },
  {
   "cell_type": "markdown",
   "id": "8a8eadbc-3f89-4403-8b10-96e377ac6797",
   "metadata": {},
   "source": [
    "The second Conda environment will be used when running `script2.py` in our Nextflow workflow."
   ]
  },
  {
   "cell_type": "code",
   "execution_count": 3,
   "id": "cbd1ccb5-be37-4cf4-8323-729f6788d86a",
   "metadata": {
    "tags": []
   },
   "outputs": [
    {
     "name": "stdout",
     "output_type": "stream",
     "text": [
      "Overwriting envs/env2.yaml\n"
     ]
    }
   ],
   "source": [
    "%%writefile envs/env2.yaml\n",
    "\n",
    "name: env2\n",
    "channels:\n",
    "  - defaults\n",
    "dependencies:\n",
    "  - python\n",
    "  - pandas"
   ]
  },
  {
   "cell_type": "markdown",
   "id": "3dcc30f3-b6db-4035-97ff-6061b04b9ab5",
   "metadata": {},
   "source": [
    "Each of the scripts will only run in their respective environments because the first script requires the Python module numpy while the second requires the Python module pandas and each environment only installs the modules required for their specific tasks."
   ]
  },
  {
   "cell_type": "markdown",
   "id": "c01f939f-097f-44a9-acdf-55275ba3890e",
   "metadata": {},
   "source": [
    "## Writing the Python Scripts"
   ]
  },
  {
   "cell_type": "markdown",
   "id": "7bc35f7b-30b0-4b2e-bb89-4e94ed17127b",
   "metadata": {},
   "source": [
    "In `script1.py`, we import the numpy library, create a simple numpy array, multiply each element in the array by 2, and then write the result to a file named `results_script1.txt`."
   ]
  },
  {
   "cell_type": "code",
   "execution_count": 4,
   "id": "7cf2157c-1e2b-45bf-aaa9-666b70cd59a3",
   "metadata": {
    "tags": []
   },
   "outputs": [
    {
     "name": "stdout",
     "output_type": "stream",
     "text": [
      "Writing scripts/script1.py\n"
     ]
    }
   ],
   "source": [
    "%%writefile scripts/script1.py\n",
    "\n",
    "import numpy as np\n",
    "\n",
    "# Create an array\n",
    "array = np.array([1, 2, 3, 4, 5])\n",
    "\n",
    "# Perform a simple operation\n",
    "result = array * 2\n",
    "\n",
    "# Output the result\n",
    "with open('results_script1.txt', 'w') as f:\n",
    "    f.write(f'Result: {result}')"
   ]
  },
  {
   "cell_type": "markdown",
   "id": "c44a1402-7df3-472a-82f8-b66616b8abf7",
   "metadata": {},
   "source": [
    "In `script2.py`, we import the pandas library, create a pandas DataFrame, calculate basic statistical details like percentile, mean, and standard deviation using the describe method, and then write the result to a file named `results_script2.txt`."
   ]
  },
  {
   "cell_type": "code",
   "execution_count": 5,
   "id": "8b72bec2-8c69-43ed-8db1-bf7be8426c6d",
   "metadata": {
    "tags": []
   },
   "outputs": [
    {
     "name": "stdout",
     "output_type": "stream",
     "text": [
      "Writing scripts/script2.py\n"
     ]
    }
   ],
   "source": [
    "%%writefile scripts/script2.py\n",
    "\n",
    "import pandas as pd\n",
    "\n",
    "# Create a DataFrame\n",
    "data = {\n",
    "    'Name': ['John', 'Anna', 'Peter', 'Linda'],\n",
    "    'Age': [28, 24, 35, 32]\n",
    "}\n",
    "df = pd.DataFrame(data)\n",
    "\n",
    "# Perform a simple operation\n",
    "result = df.describe()\n",
    "\n",
    "# Output the result\n",
    "with open('results_script2.txt', 'w') as f:\n",
    "    f.write(f'Result:\\n{result}')"
   ]
  },
  {
   "cell_type": "markdown",
   "id": "7c3b6f05-7f23-499f-8891-cf7e3c367619",
   "metadata": {},
   "source": [
    "## The Nextflow Configuration File"
   ]
  },
  {
   "cell_type": "markdown",
   "id": "03c7a349-4f96-4b97-a875-f5bdc095c3c2",
   "metadata": {},
   "source": [
    "The Nextflow configuration provides specifications for how to run the main Nextflow file:\n",
    "- `process`: This keyword is used to define process-specific configurations.\n",
    "\n",
    "- `withName: SCRIPT1` and `withName: SCRIPT2`: These specify configurations for each of our processes, which we've named `SCRIPT1` and `SCRIPT2`. `withName` is used to apply configurations to specific processes by name.\n",
    "\n",
    "- `conda = \"${baseDir}/envs/env1.yaml\"` and `conda = \"${baseDir}/envs/env2.yaml\"`: These lines are telling Nextflow to use the specified Conda environment when running the process. `${baseDir}` is a variable in Nextflow that represents the base directory of the project.\n"
   ]
  },
  {
   "cell_type": "code",
   "execution_count": 6,
   "id": "095bad32-cd99-4d64-99a7-1e54b3851196",
   "metadata": {
    "tags": []
   },
   "outputs": [
    {
     "name": "stdout",
     "output_type": "stream",
     "text": [
      "Overwriting nextflow.config\n"
     ]
    }
   ],
   "source": [
    "%%writefile nextflow.config\n",
    "\n",
    "process {\n",
    "    withName: SCRIPT1 {\n",
    "        conda = \"${baseDir}/envs/env1.yaml\"\n",
    "    }\n",
    "    withName: SCRIPT2 {\n",
    "        conda = \"${baseDir}/envs/env2.yaml\"\n",
    "    }\n",
    "}"
   ]
  },
  {
   "cell_type": "markdown",
   "id": "3831ba17-396b-4516-8926-4db30e382a3b",
   "metadata": {},
   "source": [
    "## The Main Nextflow Script"
   ]
  },
  {
   "cell_type": "markdown",
   "id": "bfc1254d-75a2-4651-b094-2662dc08245f",
   "metadata": {},
   "source": [
    "The last component of the workflow is the main Nextflow script with the following parts:\n",
    "- `process SCRIPT1` and `process SCRIPT2`: These lines define the two processes that our workflow will execute. Each process represents a computational task in our workflow. In this case, our tasks are running the two Python scripts.\n",
    "\n",
    "- `publishDir \"${baseDir}/results\", mode: 'copy'`: This directive tells Nextflow to copy the outputs of the process to the `results` directory located in the base directory of the project. \n",
    "\n",
    "- `output: path(\"results_script1.txt\"), emit: result` and `output: path(\"results_script2.txt\"), emit: result`: These lines specify the output files of the processes. The `emit` keyword allows us to assign a name (`result`) to the output for further use in the workflow.\n",
    "\n",
    "- `script: \"\"\" python ${baseDir}/scripts/script1.py \"\"\"` and `script: \"\"\" python ${baseDir}/scripts/script2.py \"\"\"`: These are the actual scripts that will be run for each process. They are simple shell commands to run the Python scripts. `${baseDir}` is a variable in Nextflow that represents the base directory of the project.\n",
    "\n",
    "- `workflow { SCRIPT1(); SCRIPT2() }`: This is the main workflow block that specifies the order in which to run the processes. The processes `SCRIPT1` and `SCRIPT2` are run in the order they are written."
   ]
  },
  {
   "cell_type": "code",
   "execution_count": 7,
   "id": "bee7100c-c7a8-4bfe-8d5c-166acf0d4208",
   "metadata": {
    "tags": []
   },
   "outputs": [
    {
     "name": "stdout",
     "output_type": "stream",
     "text": [
      "Overwriting main.nf\n"
     ]
    }
   ],
   "source": [
    "%%writefile main.nf\n",
    "\n",
    "process SCRIPT1 {\n",
    "    publishDir \"${baseDir}/results\", mode: 'copy'\n",
    "    \n",
    "    output:\n",
    "        path(\"results_script1.txt\"), emit: result\n",
    "\n",
    "    script:\n",
    "    \"\"\"\n",
    "    python ${baseDir}/scripts/script1.py\n",
    "    \"\"\"\n",
    "}\n",
    "\n",
    "process SCRIPT2 {\n",
    "    publishDir \"${baseDir}/results\", mode: 'copy'\n",
    "    \n",
    "    output:\n",
    "        path(\"results_script2.txt\"), emit: result\n",
    "\n",
    "    script:\n",
    "    \"\"\"\n",
    "    python ${baseDir}/scripts/script2.py\n",
    "    \"\"\"\n",
    "}\n",
    "\n",
    "workflow {\n",
    "    SCRIPT1()\n",
    "    SCRIPT2()\n",
    "}"
   ]
  },
  {
   "cell_type": "markdown",
   "id": "f58c36b5-29aa-4866-b249-de9a73623cba",
   "metadata": {},
   "source": [
    "## Running the Nextflow Workflow"
   ]
  },
  {
   "cell_type": "code",
   "execution_count": 8,
   "id": "dabad174-d1c0-4aac-8724-befcaf68e02a",
   "metadata": {
    "tags": []
   },
   "outputs": [
    {
     "name": "stdout",
     "output_type": "stream",
     "text": [
      "N E X T F L O W  ~  version 22.10.6\n",
      "Launching `main.nf` [zen_coulomb] DSL2 - revision: 161ca7a2b7\n",
      "[-        ] process > SCRIPT1 -\u001b[K\n",
      "[-        ] process > SCRIPT2 -\u001b[K\n",
      "\u001b[3A\n",
      "executor >  local (2)\u001b[K\n",
      "[6f/5e6fe7] process > SCRIPT1 [  0%] 0 of 1\u001b[K\n",
      "[b4/aaaed9] process > SCRIPT2 [  0%] 0 of 1\u001b[K\n",
      "\u001b[4A\n",
      "executor >  local (2)\u001b[K\n",
      "[6f/5e6fe7] process > SCRIPT1 [  0%] 0 of 1\u001b[K\n",
      "[b4/aaaed9] process > SCRIPT2 [  0%] 0 of 1\u001b[K\n",
      "\u001b[4A\n",
      "executor >  local (2)\u001b[K\n",
      "[6f/5e6fe7] process > SCRIPT1 [100%] 1 of 1 ✔\u001b[K\n",
      "[b4/aaaed9] process > SCRIPT2 [  0%] 0 of 1\u001b[K\n",
      "\u001b[4A\n",
      "executor >  local (2)\u001b[K\n",
      "[6f/5e6fe7] process > SCRIPT1 [100%] 1 of 1 ✔\u001b[K\n",
      "[b4/aaaed9] process > SCRIPT2 [100%] 1 of 1 ✔\u001b[K\n",
      "\n"
     ]
    }
   ],
   "source": [
    "!nextflow run main.nf"
   ]
  },
  {
   "cell_type": "markdown",
   "id": "0bce4dd0-a69a-434c-9e84-e4f06d187f09",
   "metadata": {},
   "source": [
    "When this command is run, Nextflow will execute our workflow. It will create and activate the Conda environments specified in `env1.yaml` and `env2.yaml`, run `script1.py` in `env1` and `script2.py` in `env2`, and then copy the outputs to the `results` directory. "
   ]
  }
 ],
 "metadata": {
  "kernelspec": {
   "display_name": "Python 3 (ipykernel)",
   "language": "python",
   "name": "python3"
  },
  "language_info": {
   "codemirror_mode": {
    "name": "ipython",
    "version": 3
   },
   "file_extension": ".py",
   "mimetype": "text/x-python",
   "name": "python",
   "nbconvert_exporter": "python",
   "pygments_lexer": "ipython3",
   "version": "3.10.9"
  }
 },
 "nbformat": 4,
 "nbformat_minor": 5
}
