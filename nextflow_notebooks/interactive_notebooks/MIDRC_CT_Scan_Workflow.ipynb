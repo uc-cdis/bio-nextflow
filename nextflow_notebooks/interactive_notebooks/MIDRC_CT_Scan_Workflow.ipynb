{
 "cells": [
  {
   "cell_type": "markdown",
   "id": "8fda8303-f8e9-44ef-905f-434c56098502",
   "metadata": {},
   "source": [
    "### Define Query Data Step"
   ]
  },
  {
   "cell_type": "code",
   "execution_count": 1,
   "id": "fe1954b6-1eaa-48dc-9a02-bac85bed3307",
   "metadata": {
    "tags": []
   },
   "outputs": [
    {
     "name": "stdout",
     "output_type": "stream",
     "text": [
      "Overwriting query_data.py\n"
     ]
    }
   ],
   "source": [
    "%%writefile query_data.py\n",
    "\n",
    "import gen3\n",
    "import os\n",
    "\n",
    "guids = ['dg.MD1R/ea669b5e-ae51-40ba-b375-ed23a9cd1855',\n",
    "         'dg.MD1R/a745ed98-0cb9-4537-826b-13b2e354e8bb',\n",
    "         'dg.MD1R/e604979a-c71b-4ec6-b8a0-959837b86384',\n",
    "         'dg.MD1R/b5cee98d-46ff-4438-aa00-90727a383340',\n",
    "         'dg.MD1R/8a5a5579-7925-432d-a614-3ed208f1c182',\n",
    "         'dg.MD1R/33034812-47f3-4c0e-b60b-fa7a2a04ecda',\n",
    "         'dg.MD1R/5ca987c5-c660-4785-a67d-a3424cc8ec6e',\n",
    "         'dg.MD1R/44148117-1858-49ef-b30f-d239abfaff80',\n",
    "         'dg.MD1R/9ea205e8-a774-4318-a323-95eadda9bc5c',\n",
    "         'dg.MD1R/09ece36f-a0fa-48e8-8fc2-62110eaae570']\n",
    "\n",
    "for guid in guids:\n",
    "    os.system(f\"gen3 drs-pull object {guid} --output-dir ../../../midrc_files/midrc_dicom\")\n",
    "\n"
   ]
  },
  {
   "cell_type": "markdown",
   "id": "f4ff2039-3f3a-4543-b892-15f125d56a25",
   "metadata": {},
   "source": [
    "### Define DICOM to PNG Step\n",
    "\n",
    "Still work in process - need to adjust how the function steps through the directory path of all dicom files"
   ]
  },
  {
   "cell_type": "code",
   "execution_count": 2,
   "id": "166603a1-2c13-43ec-bd3e-dc02b1ce46b5",
   "metadata": {
    "jupyter": {
     "source_hidden": true
    },
    "tags": []
   },
   "outputs": [
    {
     "name": "stdout",
     "output_type": "stream",
     "text": [
      "Overwriting convert_dcm_to_png.py\n"
     ]
    }
   ],
   "source": [
    "%%writefile convert_dcm_to_png.py\n",
    "\n",
    "\n",
    "import pydicom\n",
    "import numpy as np\n",
    "from PIL import Image\n",
    "import os\n",
    "\n",
    "\n",
    "base_folder =  '../../../midrc_files/midrc_dicom/COVID-19-NY-SBU'\n",
    "\n",
    "at_end = False\n",
    "\n",
    "for file in os.listdir(base_folder):\n",
    "    if file.endswith(\".dcm\"):\n",
    "        image_path = os.path.join(base_folder, file)\n",
    "\n",
    "        ds = pydicom.dcmread(image_path)\n",
    "\n",
    "        new_image = ds.pixel_array.astype(float)\n",
    "\n",
    "        scaled_image = np.uint8((np.maximum(new_image, 0) / new_image.max()) * 255.0)\n",
    "\n",
    "        final_image = Image.fromarray(scaled_image)\n",
    "\n",
    "        out_path = os.path.join('../../../midrc_files/midrc_png/', file[:-3], 'png')\n",
    "        final_image.save(out_path)\n"
   ]
  },
  {
   "cell_type": "markdown",
   "id": "01e8ae31-5d3a-4f61-a5ed-cff14bc0d273",
   "metadata": {},
   "source": [
    "### Defin CICOM to JPEG Step \n",
    "\n",
    "Still work in process - need to adjust how the function steps through the directory path of all dicom files"
   ]
  },
  {
   "cell_type": "code",
   "execution_count": 3,
   "id": "e519db4f-f163-460d-898a-af359b66235c",
   "metadata": {
    "jupyter": {
     "source_hidden": true
    },
    "tags": []
   },
   "outputs": [
    {
     "name": "stdout",
     "output_type": "stream",
     "text": [
      "Overwriting convert_dcm_to_jpeg.py\n"
     ]
    }
   ],
   "source": [
    "%%writefile convert_dcm_to_jpeg.py\n",
    "\n",
    "\n",
    "import pydicom\n",
    "import numpy as np\n",
    "from PIL import Image\n",
    "\n",
    "image_path = 'COVID-19-NY-SBU/A117394/10-08-1900-CT ABD AND PELVIS WITH IV CONT-39755/9.000000-CTA 0.5 CE-40834/1-0163.dcm'\n",
    "\n",
    "ds = pydicom.dcmread(image_path)\n",
    "    \n",
    "new_image = ds.pixel_array.astype(float)\n",
    "\n",
    "scaled_image = np.uint8((np.maximum(new_image, 0) / new_image.max()) * 255.0)\n",
    "\n",
    "final_image = Image.fromarray(scaled_image)\n",
    "\n",
    "final_image.save(image_path.rsplit('/', 1)[1][:-3] + 'jpg')   "
   ]
  },
  {
   "cell_type": "markdown",
   "id": "c814731b-9af7-430a-9fa0-b12f6ebd1d73",
   "metadata": {},
   "source": [
    "### Define Extract Metadata Step"
   ]
  },
  {
   "cell_type": "code",
   "execution_count": 4,
   "id": "22d568e2-a54a-46d5-976c-e8aefff75cf0",
   "metadata": {
    "tags": []
   },
   "outputs": [
    {
     "name": "stdout",
     "output_type": "stream",
     "text": [
      "Overwriting extract_image_metadata.py\n"
     ]
    }
   ],
   "source": [
    "%%writefile extract_image_metadata.py\n",
    "\n",
    "import pandas as pd\n",
    "import os\n",
    "from dicom_csv import join_tree\n",
    "\n",
    "base_folder =  '../../../midrc_files/midrc_dicom/COVID-19-NY-SBU'\n",
    "metadata_df = pd.DataFrame()\n",
    "\n",
    "file_folders = os.listdir(path = base_folder)\n",
    "\n",
    "for folder in file_folders:\n",
    "        path = base_folder + '/' + folder\n",
    "\n",
    "        meta = join_tree(path, verbose=2)\n",
    "        metadata_df = pd.concat([metadata_df, meta])\n",
    "\n",
    "metadata_df.to_csv('../../../midrc_files/extracted_metadata.csv')\n",
    "\n"
   ]
  },
  {
   "cell_type": "markdown",
   "id": "1354c787-f339-4fb1-8b7b-fe4da2e985ba",
   "metadata": {},
   "source": [
    "### Define Workflow\n",
    "\n",
    "Still work in progress - need to make workflow perform query step before all other processes"
   ]
  },
  {
   "cell_type": "code",
   "execution_count": 9,
   "id": "d1668213-9646-468d-9387-9686e4c454cd",
   "metadata": {
    "jupyter": {
     "source_hidden": true
    },
    "tags": []
   },
   "outputs": [
    {
     "name": "stdout",
     "output_type": "stream",
     "text": [
      "Overwriting main.nf\n"
     ]
    }
   ],
   "source": [
    "%%writefile main.nf\n",
    "#!/usr/bin/env nextflow\n",
    "\n",
    "process QueryData {\n",
    "    \n",
    "    tag 'initial_task'\n",
    "    \n",
    "\n",
    "    script:\n",
    "    \"\"\"\n",
    "    python3 ${baseDir}/query_data.py \n",
    "    \"\"\"\n",
    "}\n",
    "\n",
    "process ConvertToJPEG {\n",
    "\n",
    "   \n",
    "    // publishDir \"${baseDir}/converted_images/jpeg\", mode: 'copy'\n",
    "    \n",
    "    tag 'convert_to_jpeg'\n",
    "\n",
    "    script:\n",
    "    \"\"\"\n",
    "    python3 ${baseDir}/convert_dcm_to_jpeg.py \n",
    "    \"\"\"\n",
    "}\n",
    "\n",
    "process ConvertToPNG {\n",
    "    \n",
    "    \n",
    "    // publishDir \"${baseDir}/converted_images/png\", mode: 'copy'\n",
    "    \n",
    "    tag 'convert_to_png'\n",
    "\n",
    "\n",
    "    script:\n",
    "    \"\"\"\n",
    "    python3 ${baseDir}/convert_dcm_to_png.py\n",
    "    \"\"\"\n",
    "}\n",
    "\n",
    "process ExtractMetadata {\n",
    "    \n",
    "    \n",
    "    // publishDir \"${baseDir}/extracted_metadata\", mode: 'copy'\n",
    "    \n",
    "    tag 'extract_metadata'\n",
    "    \n",
    "\n",
    "    script:\n",
    "    \"\"\"\n",
    "    python3 ${baseDir}/extract_image_metadata.py \n",
    "    \"\"\"\n",
    "}\n",
    "\n",
    "\n",
    "// Define the entry workflow (initial workflow for Nextflow to run)\n",
    "workflow {\n",
    "\n",
    "    QueryData()\n",
    "    \n",
    "    // ConvertToJPEG()\n",
    "    \n",
    "    // ConvertToPNG()\n",
    "    \n",
    "    // ExtractMetadata()\n",
    "    \n",
    "}"
   ]
  },
  {
   "cell_type": "markdown",
   "id": "af5ac59e-24bf-40e6-b820-814e63ec395d",
   "metadata": {},
   "source": [
    "### Define Environment\n",
    "\n",
    "Still work in progress - need to properly set up environment"
   ]
  },
  {
   "cell_type": "code",
   "execution_count": 10,
   "id": "235d3f7e-5495-467e-9da2-07220442de98",
   "metadata": {
    "tags": []
   },
   "outputs": [
    {
     "name": "stdout",
     "output_type": "stream",
     "text": [
      "Overwriting environment.yml\n"
     ]
    }
   ],
   "source": [
    "%%writefile environment.yml\n",
    "name: MIDRC_CT_Scan_Workflow_env\n",
    "channels:\n",
    "  - defaults\n",
    "dependencies:\n",
    "  - python\n",
    "  - pip\n",
    "  - pip:\n",
    "    - gen3\n",
    "    - numpy\n",
    "    - pandas\n",
    "    - pydicom\n",
    "    - pillow\n",
    "    - dicom-csv\n",
    "    - os"
   ]
  },
  {
   "cell_type": "markdown",
   "id": "afc3956e-b0c9-4be2-9958-fe54fe7560b8",
   "metadata": {},
   "source": [
    "### Define Workflow Config"
   ]
  },
  {
   "cell_type": "code",
   "execution_count": 11,
   "id": "b2399390-2adf-465b-bcbd-dfbf052fe210",
   "metadata": {
    "jupyter": {
     "source_hidden": true
    },
    "tags": []
   },
   "outputs": [
    {
     "name": "stdout",
     "output_type": "stream",
     "text": [
      "Overwriting nextflow.config\n"
     ]
    }
   ],
   "source": [
    "%%writefile nextflow.config\n",
    "\n",
    "// enables the processes to be run in a conda environment\n",
    "// conda.enabled = true\n",
    "\n",
    "process {\n",
    "    conda {\n",
    "        envCreate = true\n",
    "        envName = 'MIDRC_CT_Scan_Workflow_env'\n",
    "        envFile = 'environment.yml'\n",
    "    }\n",
    "}\n",
    "\n",
    "params {\n",
    "    midrc_guid = \"dg.MD1R/ea669b5e-ae51-40ba-b375-ed23a9cd1855\"    \n",
    "    outdir = \"/results\"\n",
    "}"
   ]
  },
  {
   "cell_type": "markdown",
   "id": "d4999f21-03cb-43d3-a468-ba71d44f29af",
   "metadata": {},
   "source": [
    "### Run Workflow"
   ]
  },
  {
   "cell_type": "code",
   "execution_count": 13,
   "id": "24e51f43-776a-4247-af0c-cc517b1852d1",
   "metadata": {
    "tags": []
   },
   "outputs": [
    {
     "name": "stdout",
     "output_type": "stream",
     "text": [
      "N E X T F L O W  ~  version 22.10.6\n",
      "Launching `main.nf` [nasty_chandrasekhar] DSL2 - revision: 23fc6d37e0\n",
      "[-        ] process > ExtractMetadata [  0%] 0 of 1\u001b[K\n",
      "\u001b[2A\n",
      "executor >  local (1)\u001b[K\n",
      "[7b/81d3da] process > ExtractMetadata (extract_me... [  0%] 0 of 1\u001b[K\n",
      "\u001b[3A\n",
      "executor >  local (1)\u001b[K\n",
      "[7b/81d3da] process > ExtractMetadata (extract_me... [100%] 1 of 1 ✔\u001b[K\n",
      "\n"
     ]
    }
   ],
   "source": [
    "!nextflow run main.nf"
   ]
  },
  {
   "cell_type": "code",
   "execution_count": null,
   "id": "a8e02e58-c1f5-4e7e-ae06-7b72179cc990",
   "metadata": {},
   "outputs": [],
   "source": []
  }
 ],
 "metadata": {
  "kernelspec": {
   "display_name": "Python 3 (ipykernel)",
   "language": "python",
   "name": "python3"
  },
  "language_info": {
   "codemirror_mode": {
    "name": "ipython",
    "version": 3
   },
   "file_extension": ".py",
   "mimetype": "text/x-python",
   "name": "python",
   "nbconvert_exporter": "python",
   "pygments_lexer": "ipython3",
   "version": "3.10.9"
  }
 },
 "nbformat": 4,
 "nbformat_minor": 5
}
