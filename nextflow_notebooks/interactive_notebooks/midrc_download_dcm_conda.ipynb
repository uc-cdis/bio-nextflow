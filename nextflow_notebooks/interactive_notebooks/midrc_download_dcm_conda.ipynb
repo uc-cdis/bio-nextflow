{
 "cells": [
  {
   "cell_type": "markdown",
   "id": "350e4c94-c97d-4cc2-a9f5-47bae3ced5f7",
   "metadata": {},
   "source": [
    "# write nextflow config"
   ]
  },
  {
   "cell_type": "code",
   "execution_count": 1,
   "id": "15e7e561-368d-492d-820b-4f0fa061a79e",
   "metadata": {
    "tags": []
   },
   "outputs": [
    {
     "name": "stdout",
     "output_type": "stream",
     "text": [
      "Overwriting environment.yml\n"
     ]
    }
   ],
   "source": [
    "%%writefile environment.yml\n",
    "name: midrc_env\n",
    "channels:\n",
    "  - defaults\n",
    "dependencies:\n",
    "  - pip\n",
    "  - pip:\n",
    "    - pyyaml==5.3.1\n",
    "    - pydicom\n",
    "    - pillow\n",
    "    - gen3\n",
    "        "
   ]
  },
  {
   "cell_type": "code",
   "execution_count": 2,
   "id": "1bfa19ae-d756-4e42-9656-9e96e157ebd7",
   "metadata": {
    "tags": []
   },
   "outputs": [
    {
     "name": "stdout",
     "output_type": "stream",
     "text": [
      "Overwriting nextflow.config\n"
     ]
    }
   ],
   "source": [
    "%%writefile nextflow.config\n",
    "\n",
    "conda.enabled = true\n",
    "\n",
    "process {\n",
    "    conda {\n",
    "        envCreate = true\n",
    "        envName = 'midrc_env'\n",
    "        // If the environment does not exist, Nextflow will create it using the specified YAML file\n",
    "        envFile = 'environment.yml'\n",
    "        \n",
    "    }\n",
    "}\n",
    "\n",
    "workDir = 'sdk_data'"
   ]
  },
  {
   "cell_type": "markdown",
   "id": "522f704b-e729-40a1-8b8a-07b4eb9af6fc",
   "metadata": {},
   "source": [
    "# Pull some midrc guids to test and move dcm files to midrc_dicom directory"
   ]
  },
  {
   "cell_type": "code",
   "execution_count": 3,
   "id": "d047bb22-6da8-4065-9cc5-d71f16278de2",
   "metadata": {
    "tags": []
   },
   "outputs": [
    {
     "name": "stdout",
     "output_type": "stream",
     "text": [
      "Overwriting download_data.py\n"
     ]
    }
   ],
   "source": [
    "%%writefile download_data.py\n",
    "\n",
    "import gen3\n",
    "import os\n",
    "\n",
    "output_dir = 'data'\n",
    "\n",
    "guids = ['dg.MD1R/ea669b5e-ae51-40ba-b375-ed23a9cd1855',\n",
    "         'dg.MD1R/a745ed98-0cb9-4537-826b-13b2e354e8bb',\n",
    "         'dg.MD1R/e604979a-c71b-4ec6-b8a0-959837b86384',\n",
    "         'dg.MD1R/b5cee98d-46ff-4438-aa00-90727a383340',\n",
    "         'dg.MD1R/8a5a5579-7925-432d-a614-3ed208f1c182',\n",
    "         'dg.MD1R/33034812-47f3-4c0e-b60b-fa7a2a04ecda',\n",
    "         'dg.MD1R/5ca987c5-c660-4785-a67d-a3424cc8ec6e',\n",
    "         'dg.MD1R/44148117-1858-49ef-b30f-d239abfaff80',\n",
    "         'dg.MD1R/9ea205e8-a774-4318-a323-95eadda9bc5c',\n",
    "         'dg.MD1R/09ece36f-a0fa-48e8-8fc2-62110eaae570']\n",
    "\n",
    "for guid in guids:\n",
    "    print('pulling guid {}'.format(guid))\n",
    "    os.system(f\"gen3 drs-pull object {guid}\")\n"
   ]
  },
  {
   "cell_type": "code",
   "execution_count": 4,
   "id": "00ab9b4f-677b-49ac-870d-92f80dfa98d3",
   "metadata": {
    "tags": []
   },
   "outputs": [
    {
     "name": "stdout",
     "output_type": "stream",
     "text": [
      "Overwriting convert_dcm_to_png.py\n"
     ]
    }
   ],
   "source": [
    "%%writefile convert_dcm_to_png.py\n",
    "\n",
    "import pydicom\n",
    "import argparse\n",
    "import numpy as np\n",
    "from PIL import Image\n",
    "import os\n",
    "\n",
    "def main(dicom_inputs):\n",
    "    for dicom_file in dicom_inputs:\n",
    "        png_out = dicom_file.split('.dcm')[0] + '.png'\n",
    "        dicom_dataset = pydicom.dcmread(dicom_file)\n",
    "        transformed_image = dicom_dataset.pixel_array.astype(float)\n",
    "        scaled_image = np.uint8((np.maximum(transformed_image, 0) / transformed_image.max()) * 255.0)\n",
    "        final_image = Image.fromarray(scaled_image)\n",
    "        final_image.save(png_out)\n",
    "\n",
    "if __name__ == '__main__':\n",
    "    parser = argparse.ArgumentParser(description='convert dicom to png')\n",
    "    parser.add_argument('--dicom-inputs', dest='dicom_inputs', nargs = '+', required=True)\n",
    "    args = parser.parse_args()\n",
    "\n",
    "    main(args.dicom_inputs)"
   ]
  },
  {
   "cell_type": "code",
   "execution_count": 5,
   "id": "dda636a3-09ae-434f-a525-73686d136593",
   "metadata": {
    "tags": []
   },
   "outputs": [
    {
     "name": "stdout",
     "output_type": "stream",
     "text": [
      "Overwriting main.nf\n"
     ]
    }
   ],
   "source": [
    "%%writefile main.nf\n",
    "#!/usr/bin/env nextflow\n",
    "\n",
    "process DownloadData {\n",
    "    \n",
    "    conda './environment.yml' \n",
    "    \n",
    "    label 'download_data'\n",
    "    \n",
    "    tag 'initial_task'\n",
    "    \n",
    "    output:\n",
    "    stdout emit: download_data_log\n",
    "    path('**/*.dcm'), emit: dicom_image\n",
    "    \n",
    "    script:\n",
    "    \"\"\"\n",
    "    python3 ${baseDir}/download_data.py\n",
    "    \"\"\"\n",
    "}\n",
    "\n",
    "process PublishData {\n",
    "    \n",
    "    conda './environment.yml' \n",
    "    \n",
    "    label 'publish_data'\n",
    "    \n",
    "    publishDir \"${baseDir}/dicom_files\", mode: 'copy'\n",
    "    \n",
    "    input:\n",
    "    path(dicom_image) \n",
    "    \n",
    "    output:\n",
    "    stdout emit: convert_to_png_log\n",
    "    \n",
    "    script:\n",
    "    \"\"\"\n",
    "    echo $dicom_image\n",
    "    \"\"\"\n",
    "}\n",
    "\n",
    "\n",
    "process convert_dcm_to_png {\n",
    "    \n",
    "    conda './environment.yml' \n",
    "    \n",
    "    label 'dcm2png'\n",
    "    \n",
    "    input:\n",
    "    path(dicom_image) \n",
    "    \n",
    "    output:\n",
    "    stdout emit: convert_to_png_log\n",
    "    path('*.png'), emit: png_image\n",
    "    \n",
    "    script:\n",
    "    \"\"\"\n",
    "    python3 ${baseDir}/convert_dcm_to_png.py --dicom-inputs $dicom_image\n",
    "    \"\"\"\n",
    "}\n",
    "\n",
    "\n",
    "// Define the entry workflow (initial workflow for Nextflow to run)\n",
    "workflow {\n",
    "    DownloadData()\n",
    "    PublishData(DownloadData.out.dicom_image)\n",
    "    convert_dcm_to_png(DownloadData.out.dicom_image)\n",
    "}"
   ]
  },
  {
   "cell_type": "code",
   "execution_count": null,
   "id": "6d797cce-8280-4aea-b7fd-aa831f9748d4",
   "metadata": {
    "tags": []
   },
   "outputs": [
    {
     "name": "stdout",
     "output_type": "stream",
     "text": [
      "N E X T F L O W  ~  version 22.10.6\n",
      "Launching `main.nf` [clever_stonebraker] DSL2 - revision: 0f0c4e1aa0\n",
      "[-        ] process > DownloadData       -\u001b[K\n",
      "[-        ] process > PublishData        -\u001b[K\n",
      "[-        ] process > convert_dcm_to_png -\u001b[K\n",
      "\u001b[4A\n",
      "[-        ] process > DownloadData       -\u001b[K\n",
      "[-        ] process > PublishData        -\u001b[K\n",
      "[-        ] process > convert_dcm_to_png -\u001b[K\n",
      "Creating env using conda: ./environment.yml [cache /home/jovyan/pd/sdk_data/conda/midrc_env-5737b5ae07a80b35c557e66cbd226316]\u001b[K\n",
      "\u001b[5A\n",
      "executor >  local (1)\u001b[K\n",
      "[15/140ca0] process > DownloadData (initial_task) [  0%] 0 of 1\u001b[K\n",
      "[-        ] process > PublishData                 -\u001b[K\n",
      "[-        ] process > convert_dcm_to_png          -\u001b[K\n",
      "\u001b[K\n"
     ]
    }
   ],
   "source": [
    "!nextflow run main.nf"
   ]
  },
  {
   "cell_type": "code",
   "execution_count": null,
   "id": "b2e20f53-ed8e-43ea-ba8e-734c7f43be23",
   "metadata": {},
   "outputs": [],
   "source": []
  },
  {
   "cell_type": "code",
   "execution_count": null,
   "id": "952c9977-123b-491f-ba07-8f9c9206410b",
   "metadata": {},
   "outputs": [],
   "source": []
  }
 ],
 "metadata": {
  "kernelspec": {
   "display_name": "Python 3 (ipykernel)",
   "language": "python",
   "name": "python3"
  },
  "language_info": {
   "codemirror_mode": {
    "name": "ipython",
    "version": 3
   },
   "file_extension": ".py",
   "mimetype": "text/x-python",
   "name": "python",
   "nbconvert_exporter": "python",
   "pygments_lexer": "ipython3",
   "version": "3.10.9"
  }
 },
 "nbformat": 4,
 "nbformat_minor": 5
}
