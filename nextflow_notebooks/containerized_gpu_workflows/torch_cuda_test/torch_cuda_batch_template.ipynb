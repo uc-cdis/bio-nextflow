{
 "cells": [
  {
   "cell_type": "code",
   "execution_count": null,
   "id": "e241b176-5216-4f2b-ba1e-fe163462c4c8",
   "metadata": {},
   "outputs": [],
   "source": [
    "%%writefile main.nf\n",
    "#!/usr/bin/env nextflow\n",
    "\n",
    "process torch_cuda_test {\n",
    "\n",
    "    accelerator 1\n",
    "    \n",
    "    label 'check_torch_cuda'\n",
    "    \n",
    "    output:\n",
    "    stdout emit: torch_cuda_log\n",
    "    \n",
    "    script:\n",
    "    \"\"\"\n",
    "    python /app/check_torch_cuda.py\n",
    "    \"\"\"\n",
    "\n",
    "}\n",
    "\n",
    "// Define the entry workflow (initial workflow for Nextflow to run)\n",
    "workflow {\n",
    "    torch_cuda_test()\n",
    "}"
   ]
  },
  {
   "cell_type": "code",
   "execution_count": null,
   "id": "e9248b17-c047-4a14-80d0-e9b2bebc7889",
   "metadata": {},
   "outputs": [],
   "source": [
    "%%writefile nextflow.config\n",
    "\n",
    "process {\n",
    "    withLabel: check_torch_cuda {\n",
    "        executor = 'awsbatch'\n",
    "        queue = 'placeholder'\n",
    "        container = 'placeholder'\n",
    "        containerOptions = \"--gpus all\"\n",
    "    }\n",
    "}\n",
    "\n",
    "workDir = 'placeholder'\n",
    "\n",
    "docker.enabled = true"
   ]
  },
  {
   "cell_type": "code",
   "execution_count": null,
   "id": "4eac044e-9b72-4bb1-b3bb-84e2c8698ca5",
   "metadata": {},
   "outputs": [],
   "source": [
    "!nextflow run main.nf -dsl2"
   ]
  }
 ],
 "metadata": {
  "kernelspec": {
   "display_name": "Python 3 (ipykernel)",
   "language": "python",
   "name": "python3"
  },
  "language_info": {
   "codemirror_mode": {
    "name": "ipython",
    "version": 3
   },
   "file_extension": ".py",
   "mimetype": "text/x-python",
   "name": "python",
   "nbconvert_exporter": "python",
   "pygments_lexer": "ipython3",
   "version": "3.11.6"
  }
 },
 "nbformat": 4,
 "nbformat_minor": 5
}
