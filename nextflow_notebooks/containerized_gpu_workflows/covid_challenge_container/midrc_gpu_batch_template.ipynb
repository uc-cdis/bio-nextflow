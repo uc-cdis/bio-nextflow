{
 "cells": [
  {
   "cell_type": "code",
   "execution_count": null,
   "id": "3a824a3f-73fe-4f3e-94b2-7d233a12b9b2",
   "metadata": {},
   "outputs": [],
   "source": [
    "%%writefile main.nf\n",
    "#!/usr/bin/env nextflow\n",
    "\n",
    "/* pipeline input parameters */\n",
    "dicom_data = \"$baseDir/sdk_data/06/8654bc98ec4951b25adbe8a0dde5dc/test_few/*.dcm\"\n",
    "\n",
    "process run_inference {\n",
    "\n",
    "    memory '5 GB'\n",
    "    accelerator 1\n",
    "    \n",
    "    label 'inference'\n",
    "    publishDir \"$baseDir/sdk_data\"\n",
    "    \n",
    "    input:\n",
    "    path dicom_files\n",
    "    \n",
    "    output:\n",
    "    stdout emit: inference_log\n",
    "    path('*.csv'), emit: csv_files\n",
    "    \n",
    "    script:\n",
    "    \"\"\"\n",
    "    python /app/inference_modified_for_batch.py --dicom-input $dicom_files --classification-out-csv ${dicom_files}.classification_results.csv  \n",
    "    \"\"\"\n",
    "\n",
    "}\n",
    "\n",
    "// Define the entry workflow (initial workflow for Nextflow to run)\n",
    "workflow {\n",
    "    dicom_files = Channel.fromPath(dicom_data)\n",
    "    run_inference(dicom_files)\n",
    "}\n"
   ]
  },
  {
   "cell_type": "code",
   "execution_count": null,
   "id": "811e5d7a-4451-455a-80cf-719de1f77b7f",
   "metadata": {},
   "outputs": [],
   "source": [
    "%%writefile nextflow.config\n",
    "\n",
    "process {\n",
    "    withLabel: inference {\n",
    "        executor = 'awsbatch'\n",
    "        queue = 'placeholder'\n",
    "        container = 'placeholder'\n",
    "        containerOptions = \"--gpus all\"\n",
    "    }\n",
    "}\n",
    "\n",
    "aws {\n",
    "\tbatch {\n",
    "\t\tcliPath = '/home/ec2-user/miniconda/bin/aws'\n",
    "\t\tjobRole = 'placeholder'\n",
    "\t}\n",
    "}\n",
    "\n",
    "workDir = 'placeholder'\n",
    "\n",
    "docker.enabled = true"
   ]
  },
  {
   "cell_type": "code",
   "execution_count": null,
   "id": "51109530-b71e-40c1-bfa0-847874f90a98",
   "metadata": {},
   "outputs": [],
   "source": [
    "!nextflow run main.nf -dsl2"
   ]
  }
 ],
 "metadata": {
  "kernelspec": {
   "display_name": "Python 3 (ipykernel)",
   "language": "python",
   "name": "python3"
  },
  "language_info": {
   "codemirror_mode": {
    "name": "ipython",
    "version": 3
   },
   "file_extension": ".py",
   "mimetype": "text/x-python",
   "name": "python",
   "nbconvert_exporter": "python",
   "pygments_lexer": "ipython3",
   "version": "3.11.6"
  }
 },
 "nbformat": 4,
 "nbformat_minor": 5
}
