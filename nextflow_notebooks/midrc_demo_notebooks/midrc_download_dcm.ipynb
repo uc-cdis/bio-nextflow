{
 "cells": [
  {
   "cell_type": "markdown",
   "id": "5b9fb4ae-7099-479a-8d5b-8165ce639009",
   "metadata": {},
   "source": [
    "# install packages"
   ]
  },
  {
   "cell_type": "code",
   "execution_count": 1,
   "id": "4c2d6917-0ce1-4888-b18d-469dd03b0336",
   "metadata": {
    "tags": []
   },
   "outputs": [
    {
     "name": "stdout",
     "output_type": "stream",
     "text": [
      "Requirement already satisfied: pyyaml==5.3.1 in /opt/conda/lib/python3.10/site-packages (5.3.1)\n"
     ]
    }
   ],
   "source": [
    "!pip install pyyaml==5.3.1"
   ]
  },
  {
   "cell_type": "code",
   "execution_count": 2,
   "id": "92504c5b-87f5-469d-87cd-1f848d4dbdef",
   "metadata": {
    "tags": []
   },
   "outputs": [
    {
     "name": "stdout",
     "output_type": "stream",
     "text": [
      "Requirement already satisfied: gen3 in /opt/conda/lib/python3.10/site-packages (4.21.0)\n",
      "Requirement already satisfied: backoff in /opt/conda/lib/python3.10/site-packages (from gen3) (1.11.1)\n",
      "Requirement already satisfied: python-dateutil in /opt/conda/lib/python3.10/site-packages (from gen3) (2.8.2)\n",
      "Requirement already satisfied: dataclasses-json in /opt/conda/lib/python3.10/site-packages (from gen3) (0.6.1)\n",
      "Requirement already satisfied: drsclient<0.3.0,>=0.2.2 in /opt/conda/lib/python3.10/site-packages (from gen3) (0.2.3)\n",
      "Requirement already satisfied: cdislogging<2.0.0,>=1.1.0 in /opt/conda/lib/python3.10/site-packages (from gen3) (1.1.1)\n",
      "Requirement already satisfied: click in /opt/conda/lib/python3.10/site-packages (from gen3) (7.1.2)\n",
      "Requirement already satisfied: requests in /opt/conda/lib/python3.10/site-packages (from gen3) (2.28.2)\n",
      "Requirement already satisfied: xmltodict<0.14.0,>=0.13.0 in /opt/conda/lib/python3.10/site-packages (from gen3) (0.13.0)\n",
      "Requirement already satisfied: httpx in /opt/conda/lib/python3.10/site-packages (from gen3) (0.23.3)\n",
      "Requirement already satisfied: indexclient in /opt/conda/lib/python3.10/site-packages (from gen3) (2.2.1)\n",
      "Requirement already satisfied: aiohttp in /opt/conda/lib/python3.10/site-packages (from gen3) (3.8.5)\n",
      "Requirement already satisfied: humanfriendly in /opt/conda/lib/python3.10/site-packages (from gen3) (10.0)\n",
      "Requirement already satisfied: pypfb<1.0.0 in /opt/conda/lib/python3.10/site-packages (from gen3) (0.5.0)\n",
      "Requirement already satisfied: tqdm<5.0.0,>=4.61.2 in /opt/conda/lib/python3.10/site-packages (from gen3) (4.65.0)\n",
      "Requirement already satisfied: aiofiles<0.9.0,>=0.8.0 in /opt/conda/lib/python3.10/site-packages (from gen3) (0.8.0)\n",
      "Requirement already satisfied: urllib3<2.0.0 in /opt/conda/lib/python3.10/site-packages (from gen3) (1.26.15)\n",
      "Requirement already satisfied: jsonschema in /opt/conda/lib/python3.10/site-packages (from gen3) (3.2.0)\n",
      "Requirement already satisfied: pandas<2.0.0,>=1.4.2 in /opt/conda/lib/python3.10/site-packages (from gen3) (1.5.3)\n",
      "Requirement already satisfied: asyncio<4.0.0,>=3.4.3 in /opt/conda/lib/python3.10/site-packages (from drsclient<0.3.0,>=0.2.2->gen3) (3.4.3)\n",
      "Requirement already satisfied: certifi in /opt/conda/lib/python3.10/site-packages (from httpx->gen3) (2023.7.22)\n",
      "Requirement already satisfied: httpcore<0.17.0,>=0.15.0 in /opt/conda/lib/python3.10/site-packages (from httpx->gen3) (0.16.3)\n",
      "Requirement already satisfied: rfc3986[idna2008]<2,>=1.3 in /opt/conda/lib/python3.10/site-packages (from httpx->gen3) (1.5.0)\n",
      "Requirement already satisfied: sniffio in /opt/conda/lib/python3.10/site-packages (from httpx->gen3) (1.3.0)\n",
      "Requirement already satisfied: pytz>=2020.1 in /opt/conda/lib/python3.10/site-packages (from pandas<2.0.0,>=1.4.2->gen3) (2022.7.1)\n",
      "Requirement already satisfied: numpy>=1.21.0 in /opt/conda/lib/python3.10/site-packages (from pandas<2.0.0,>=1.4.2->gen3) (1.23.5)\n",
      "Requirement already satisfied: python-json-logger<0.2.0,>=0.1.11 in /opt/conda/lib/python3.10/site-packages (from pypfb<1.0.0->gen3) (0.1.11)\n",
      "Requirement already satisfied: PyYAML<6.0.0,>=5.3.1 in /opt/conda/lib/python3.10/site-packages (from pypfb<1.0.0->gen3) (5.3.1)\n",
      "Requirement already satisfied: fastavro<2.0.0,>=1.0.0 in /opt/conda/lib/python3.10/site-packages (from pypfb<1.0.0->gen3) (1.8.3)\n",
      "Requirement already satisfied: dictionaryutils<=3.0.2 in /opt/conda/lib/python3.10/site-packages (from pypfb<1.0.0->gen3) (3.0.2)\n",
      "Requirement already satisfied: gdcdictionary<2.0.0,>=1.2.0 in /opt/conda/lib/python3.10/site-packages (from pypfb<1.0.0->gen3) (1.2.0)\n",
      "Requirement already satisfied: six>=1.5 in /opt/conda/lib/python3.10/site-packages (from python-dateutil->gen3) (1.16.0)\n",
      "Requirement already satisfied: charset-normalizer<4,>=2 in /opt/conda/lib/python3.10/site-packages (from requests->gen3) (2.1.1)\n",
      "Requirement already satisfied: idna<4,>=2.5 in /opt/conda/lib/python3.10/site-packages (from requests->gen3) (3.4)\n",
      "Requirement already satisfied: yarl<2.0,>=1.0 in /opt/conda/lib/python3.10/site-packages (from aiohttp->gen3) (1.9.2)\n",
      "Requirement already satisfied: multidict<7.0,>=4.5 in /opt/conda/lib/python3.10/site-packages (from aiohttp->gen3) (6.0.4)\n",
      "Requirement already satisfied: attrs>=17.3.0 in /opt/conda/lib/python3.10/site-packages (from aiohttp->gen3) (22.2.0)\n",
      "Requirement already satisfied: aiosignal>=1.1.2 in /opt/conda/lib/python3.10/site-packages (from aiohttp->gen3) (1.3.1)\n",
      "Requirement already satisfied: frozenlist>=1.1.1 in /opt/conda/lib/python3.10/site-packages (from aiohttp->gen3) (1.4.0)\n",
      "Requirement already satisfied: async-timeout<5.0,>=4.0.0a3 in /opt/conda/lib/python3.10/site-packages (from aiohttp->gen3) (4.0.3)\n",
      "Requirement already satisfied: typing-inspect<1,>=0.4.0 in /opt/conda/lib/python3.10/site-packages (from dataclasses-json->gen3) (0.9.0)\n",
      "Requirement already satisfied: marshmallow<4.0.0,>=3.18.0 in /opt/conda/lib/python3.10/site-packages (from dataclasses-json->gen3) (3.20.1)\n",
      "Requirement already satisfied: pyrsistent>=0.14.0 in /opt/conda/lib/python3.10/site-packages (from jsonschema->gen3) (0.19.3)\n",
      "Requirement already satisfied: setuptools in /opt/conda/lib/python3.10/site-packages (from jsonschema->gen3) (67.6.0)\n",
      "Requirement already satisfied: anyio<5.0,>=3.0 in /opt/conda/lib/python3.10/site-packages (from httpcore<0.17.0,>=0.15.0->httpx->gen3) (3.6.2)\n",
      "Requirement already satisfied: h11<0.15,>=0.13 in /opt/conda/lib/python3.10/site-packages (from httpcore<0.17.0,>=0.15.0->httpx->gen3) (0.14.0)\n",
      "Requirement already satisfied: packaging>=17.0 in /opt/conda/lib/python3.10/site-packages (from marshmallow<4.0.0,>=3.18.0->dataclasses-json->gen3) (23.0)\n",
      "Requirement already satisfied: mypy-extensions>=0.3.0 in /opt/conda/lib/python3.10/site-packages (from typing-inspect<1,>=0.4.0->dataclasses-json->gen3) (1.0.0)\n",
      "Requirement already satisfied: typing-extensions>=3.7.4 in /opt/conda/lib/python3.10/site-packages (from typing-inspect<1,>=0.4.0->dataclasses-json->gen3) (4.5.0)\n"
     ]
    }
   ],
   "source": [
    "!pip install gen3"
   ]
  },
  {
   "cell_type": "code",
   "execution_count": 3,
   "id": "e1b37db1-dddf-4c0f-b90a-a39ad6e2fc47",
   "metadata": {
    "tags": []
   },
   "outputs": [
    {
     "name": "stdout",
     "output_type": "stream",
     "text": [
      "Collecting pydicom\n",
      "  Downloading pydicom-2.4.3-py3-none-any.whl (1.8 MB)\n",
      "\u001b[2K     \u001b[90m━━━━━━━━━━━━━━━━━━━━━━━━━━━━━━━━━━━━━━━━\u001b[0m \u001b[32m1.8/1.8 MB\u001b[0m \u001b[31m60.1 MB/s\u001b[0m eta \u001b[36m0:00:00\u001b[0m\n",
      "\u001b[?25hInstalling collected packages: pydicom\n",
      "Successfully installed pydicom-2.4.3\n"
     ]
    }
   ],
   "source": [
    "!pip install pydicom"
   ]
  },
  {
   "cell_type": "code",
   "execution_count": 4,
   "id": "d210a934-4928-4e71-bf0f-9f12a6718424",
   "metadata": {
    "tags": []
   },
   "outputs": [],
   "source": [
    "import gen3\n",
    "import os\n",
    "import time"
   ]
  },
  {
   "cell_type": "code",
   "execution_count": 5,
   "id": "e2a61578-1af9-44aa-883d-b93a2f80a7b4",
   "metadata": {
    "tags": []
   },
   "outputs": [],
   "source": [
    "# test pulling MIDRC GUIDs -- this works\n",
    "# os.system(\"gen3 --auth midrc_credentials.json --endpoint data.midrc.org drs-pull object dg.MD1R/ea669b5e-ae51-40ba-b375-ed23a9cd1855\")\n",
    "          "
   ]
  },
  {
   "cell_type": "markdown",
   "id": "7a227c70-6fbd-45be-90db-ed73d36d17f1",
   "metadata": {},
   "source": [
    "# write nextflow config"
   ]
  },
  {
   "cell_type": "code",
   "execution_count": 7,
   "id": "4b14425f-e203-4b33-b2e4-5c44aaf02d96",
   "metadata": {
    "tags": []
   },
   "outputs": [
    {
     "name": "stdout",
     "output_type": "stream",
     "text": [
      "Overwriting nextflow.config\n"
     ]
    }
   ],
   "source": [
    "%%writefile nextflow.config\n",
    "\n",
    "process {\n",
    "    withLabel: download_data {\n",
    "        executor = 'local'\n",
    "    }\n",
    "    withLabel: publish_data {\n",
    "        executor = 'local'\n",
    "    }\n",
    "    withLabel: dcm2png {\n",
    "        executor = 'local'\n",
    "    }\n",
    "}\n",
    "\n",
    "workDir = 'sdk_data'"
   ]
  },
  {
   "cell_type": "markdown",
   "id": "874e4ee7-848c-432c-aa45-d434c033da06",
   "metadata": {},
   "source": [
    "# Pull some midrc guids to test"
   ]
  },
  {
   "cell_type": "code",
   "execution_count": 8,
   "id": "f8249966-23a5-477d-9a69-66aa55f71991",
   "metadata": {
    "tags": []
   },
   "outputs": [
    {
     "name": "stdout",
     "output_type": "stream",
     "text": [
      "Overwriting download_data.py\n"
     ]
    }
   ],
   "source": [
    "%%writefile download_data.py\n",
    "\n",
    "import gen3\n",
    "import os\n",
    "\n",
    "output_dir = 'data'\n",
    "\n",
    "guids = ['dg.MD1R/ea669b5e-ae51-40ba-b375-ed23a9cd1855',\n",
    "         'dg.MD1R/a745ed98-0cb9-4537-826b-13b2e354e8bb',\n",
    "         'dg.MD1R/e604979a-c71b-4ec6-b8a0-959837b86384',\n",
    "         'dg.MD1R/b5cee98d-46ff-4438-aa00-90727a383340',\n",
    "         'dg.MD1R/8a5a5579-7925-432d-a614-3ed208f1c182',\n",
    "         'dg.MD1R/33034812-47f3-4c0e-b60b-fa7a2a04ecda',\n",
    "         'dg.MD1R/5ca987c5-c660-4785-a67d-a3424cc8ec6e',\n",
    "         'dg.MD1R/44148117-1858-49ef-b30f-d239abfaff80',\n",
    "         'dg.MD1R/9ea205e8-a774-4318-a323-95eadda9bc5c',\n",
    "         'dg.MD1R/09ece36f-a0fa-48e8-8fc2-62110eaae570']\n",
    "\n",
    "midrc_creds_file = \"/home/jovyan/pd/midrc_credentials.json\"\n",
    "endpoint = 'data.midrc.org'\n",
    "\n",
    "for guid in guids:\n",
    "    print('pulling guid {}'.format(guid))\n",
    "    os.system(\"gen3 --auth {} --endpoint {} drs-pull object {}\".format(midrc_creds_file, endpoint, guid))"
   ]
  },
  {
   "cell_type": "code",
   "execution_count": 13,
   "id": "f9237321-636e-4fce-8726-c3e7448caa1d",
   "metadata": {
    "tags": []
   },
   "outputs": [
    {
     "name": "stdout",
     "output_type": "stream",
     "text": [
      "Overwriting main.nf\n"
     ]
    }
   ],
   "source": [
    "%%writefile main.nf\n",
    "#!/usr/bin/env nextflow\n",
    "\n",
    "process DownloadData {\n",
    "    \n",
    "    label 'download_data'\n",
    "    \n",
    "    tag 'initial_task'\n",
    "    \n",
    "    output:\n",
    "    stdout emit: download_data_log\n",
    "    path('**/*.dcm'), emit: dicom_image\n",
    "    \n",
    "    script:\n",
    "    \"\"\"\n",
    "    python3 ${baseDir}/download_data.py\n",
    "    \"\"\"\n",
    "}\n",
    "\n",
    "process PublishData {\n",
    "    \n",
    "    label 'publish_data'\n",
    "    \n",
    "    publishDir \"${baseDir}/dicom_files\", mode: 'copy'\n",
    "    \n",
    "    input:\n",
    "    path(dicom_image) \n",
    "    \n",
    "    output:\n",
    "    stdout emit: convert_to_png_log\n",
    "    \n",
    "    script:\n",
    "    \"\"\"\n",
    "    echo $dicom_image\n",
    "    \"\"\"\n",
    "}\n",
    "\n",
    "// Define the entry workflow (initial workflow for Nextflow to run)\n",
    "workflow {\n",
    "    DownloadData()\n",
    "    PublishData(DownloadData.out.dicom_image)\n",
    "}\n"
   ]
  },
  {
   "cell_type": "code",
   "execution_count": 14,
   "id": "83db393f-0223-466b-bd13-546c5f52e8e1",
   "metadata": {
    "tags": []
   },
   "outputs": [
    {
     "name": "stdout",
     "output_type": "stream",
     "text": [
      "N E X T F L O W  ~  version 21.10.6\n",
      "Launching `main.nf` [distracted_lalande] - revision: 9cf41d1605\n",
      "executor >  local (1)\u001b[K\n",
      "[cb/b8cf2a] process > DownloadData (initial_task) [  0%] 0 of 1\u001b[K\n",
      "[-        ] process > PublishData                 -\u001b[K\n",
      "\u001b[4A\n",
      "executor >  local (1)\u001b[K\n",
      "[cb/b8cf2a] process > DownloadData (initial_task) [  0%] 0 of 1\u001b[K\n",
      "[-        ] process > PublishData                 -\u001b[K\n",
      "\u001b[4A\n",
      "executor >  local (2)\u001b[K\n",
      "[cb/b8cf2a] process > DownloadData (initial_task) [100%] 1 of 1 ✔\u001b[K\n",
      "[b7/a9dbb4] process > PublishData                 [  0%] 0 of 1\u001b[K\n",
      "\u001b[4A\n",
      "executor >  local (2)\u001b[K\n",
      "[cb/b8cf2a] process > DownloadData (initial_task) [100%] 1 of 1 ✔\u001b[K\n",
      "[b7/a9dbb4] process > PublishData                 [100%] 1 of 1 ✔\u001b[K\n",
      "\n"
     ]
    }
   ],
   "source": [
    "!nextflow run main.nf -dsl2"
   ]
  },
  {
   "cell_type": "code",
   "execution_count": null,
   "id": "da3bb932-75dc-4a4a-8348-8feaa76828b7",
   "metadata": {},
   "outputs": [],
   "source": []
  }
 ],
 "metadata": {
  "kernelspec": {
   "display_name": "Python 3 (ipykernel)",
   "language": "python",
   "name": "python3"
  },
  "language_info": {
   "codemirror_mode": {
    "name": "ipython",
    "version": 3
   },
   "file_extension": ".py",
   "mimetype": "text/x-python",
   "name": "python",
   "nbconvert_exporter": "python",
   "pygments_lexer": "ipython3",
   "version": "3.9.18"
  }
 },
 "nbformat": 4,
 "nbformat_minor": 5
}
