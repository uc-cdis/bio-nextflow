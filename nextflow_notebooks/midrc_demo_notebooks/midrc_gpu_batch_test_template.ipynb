{
 "cells": [
  {
   "cell_type": "code",
   "execution_count": 1,
   "id": "931ea721-8893-4060-93ae-7a603e8aa935",
   "metadata": {
    "tags": []
   },
   "outputs": [
    {
     "name": "stdout",
     "output_type": "stream",
     "text": [
      "Overwriting main.nf\n"
     ]
    }
   ],
   "source": [
    "%%writefile main.nf\n",
    "#!/usr/bin/env nextflow\n",
    "\n",
    "/* pipeline input parameters, make a dir called sdk_data, upload a few dicoms to test */\n",
    "dicom_data = \"$baseDir/sdk_data/06/8654bc98ec4951b25adbe8a0dde5dc/test_few/*.dcm\"\n",
    "\n",
    "process run_inference {\n",
    "\n",
    "    memory '5 GB'\n",
    "    accelerator 1\n",
    "    \n",
    "    label 'inference'\n",
    "    \n",
    "    input:\n",
    "    path dicom_files\n",
    "    \n",
    "    output:\n",
    "    stdout emit: inference_log\n",
    "    path('*.csv'), emit: csv_files\n",
    "    \n",
    "    script:\n",
    "    \"\"\"\n",
    "    python /app/inference_modified_for_batch.py --dicom-input $dicom_files --classification-out-csv 'classification_results.csv'  \n",
    "    \"\"\"\n",
    "\n",
    "}\n",
    "\n",
    "// Define the entry workflow (initial workflow for Nextflow to run)\n",
    "workflow {\n",
    "    dicom_files = Channel.fromPath(dicom_data)\n",
    "    run_inference(dicom_files)\n",
    "}"
   ]
  },
  {
   "cell_type": "code",
   "execution_count": 2,
   "id": "dca4c178-d739-4c04-850a-c756ff5429a5",
   "metadata": {
    "tags": []
   },
   "outputs": [
    {
     "name": "stdout",
     "output_type": "stream",
     "text": [
      "Overwriting nextflow.config\n"
     ]
    }
   ],
   "source": [
    "%%writefile nextflow.config\n",
    "\n",
    "process {\n",
    "    withLabel: inference {\n",
    "        executor = 'awsbatch'\n",
    "        queue = 'qa-brh-planx-pla-net-nf-job-queue-aartiv-40uchicago-2eedu'\n",
    "        container = 'placeholder'\n",
    "        containerOptions = \"--gpus all\"\n",
    "    }\n",
    "}\n",
    "\n",
    "aws {\n",
    "\tbatch {\n",
    "\t\tcliPath = '/home/ec2-user/miniconda/bin/aws'\n",
    "\t\tjobRole = 'placeholder'\n",
    "\t}\n",
    "}\n",
    "\n",
    "workDir = 'placeholder'\n",
    "\n",
    "docker.enabled = true"
   ]
  },
  {
   "cell_type": "code",
   "execution_count": 3,
   "id": "c11295b2-2cf7-4b6d-a280-1e40b2bc3c37",
   "metadata": {
    "tags": []
   },
   "outputs": [
    {
     "name": "stdout",
     "output_type": "stream",
     "text": [
      "N E X T F L O W  ~  version 22.10.6\n",
      "Launching `main.nf` [small_easley] DSL2 - revision: 34ca4eebb3\n",
      "Downloading plugin nf-amazon@1.11.3\n",
      "Uploading local `bin` scripts folder to s3://qa-brh-planx-pla-net-nf-366143200747/aartiv-40uchicago-2eedu/tmp/be/fcbd58cf89977c87655e270be685f6/bin\n",
      "[-        ] process > run_inference -\u001b[K\n",
      "\u001b[2A\n",
      "[-        ] process > run_inference [  0%] 0 of 2\u001b[K\n",
      "\u001b[2A\n",
      "executor >  awsbatch (2)\u001b[K\n",
      "[36/aa5970] process > run_inference (1) [  0%] 0 of 2\u001b[K\n",
      "\u001b[3A\n",
      "executor >  awsbatch (2)\u001b[K\n",
      "[36/aa5970] process > run_inference (1) [  0%] 0 of 2\u001b[K\n",
      "\u001b[3A\n",
      "executor >  awsbatch (2)\u001b[K\n",
      "[71/216d3d] process > run_inference (2) [100%] 2 of 2 ✔\u001b[K\n",
      "\u001b[32;1mCompleted at: 22-Jan-2024 22:35:40\n",
      "Duration    : 6m 21s\n",
      "CPU hours   : (a few seconds)\n",
      "Succeeded   : 2\n",
      "\u001b[22;39m\u001b[K\n",
      "\n"
     ]
    }
   ],
   "source": [
    "!nextflow run main.nf -dsl2"
   ]
  },
  {
   "cell_type": "code",
   "execution_count": null,
   "id": "3a824a3f-73fe-4f3e-94b2-7d233a12b9b2",
   "metadata": {},
   "outputs": [],
   "source": []
  }
 ],
 "metadata": {
  "kernelspec": {
   "display_name": "Python 3 (ipykernel)",
   "language": "python",
   "name": "python3"
  },
  "language_info": {
   "codemirror_mode": {
    "name": "ipython",
    "version": 3
   },
   "file_extension": ".py",
   "mimetype": "text/x-python",
   "name": "python",
   "nbconvert_exporter": "python",
   "pygments_lexer": "ipython3",
   "version": "3.11.6"
  }
 },
 "nbformat": 4,
 "nbformat_minor": 5
}
