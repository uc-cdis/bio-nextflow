{
 "cells": [
  {
   "cell_type": "code",
   "execution_count": 8,
   "id": "3bfde2c9-a6ee-42ec-80f9-f1fbd943a311",
   "metadata": {},
   "outputs": [
    {
     "name": "stdout",
     "output_type": "stream",
     "text": [
      "Overwriting main.nf\n"
     ]
    }
   ],
   "source": [
    "%%writefile main.nf\n",
    "#!/usr/bin/env nextflow\n",
    "\n",
    "/* pipeline input parameters, update this to your data dir */\n",
    "\n",
    "bdcat_vcfs =  \"$baseDir/chip_data/bdcat/*.vcf.gz\"\n",
    "\n",
    "process identify_chip_variants {\n",
    "    \n",
    "    memory '5 GB'\n",
    "    \n",
    "    label 'vcf_analysis'\n",
    "    publishDir \"$baseDir/chip_results\"\n",
    "    \n",
    "    input:\n",
    "    path vcf_files\n",
    "    \n",
    "    output:\n",
    "    stdout emit: chip_variants_id_log\n",
    "    path('*.csv'), emit: csv_files\n",
    "    \n",
    "    script:\n",
    "    \"\"\"\n",
    "    python /app/analyze_vcf_plain.py --input-vcf $vcf_files --output-csv ${vcf_files}.chip_variants.csv --chip-truth-variants /app/aacr.chip.project.tsv\n",
    "    \"\"\"\n",
    "}\n",
    "\n",
    "// Define the entry workflow (initial workflow for Nextflow to run)\n",
    "workflow {\n",
    "   \n",
    "    vcf_data = Channel.fromPath( bdcat_vcfs )\n",
    "    identify_chip_variants(vcf_data)\n",
    "}"
   ]
  },
  {
   "cell_type": "code",
   "execution_count": 9,
   "id": "8a778d05-3514-4010-8c69-ec4a94f76a68",
   "metadata": {},
   "outputs": [
    {
     "name": "stdout",
     "output_type": "stream",
     "text": [
      "Overwriting nextflow.config\n"
     ]
    }
   ],
   "source": [
    "%%writefile nextflow.config\n",
    "\n",
    "process {\n",
    "    withLabel: vcf_analysis {\n",
    "        executor = 'awsbatch'\n",
    "        queue = 'placeholder'\n",
    "        container = 'placeholder'\n",
    "    }\n",
    "}\n",
    "\n",
    "aws {\n",
    "\tbatch {\n",
    "\t\tcliPath = '/home/ec2-user/miniconda/bin/aws'\n",
    "\t\tjobRole = 'placeholder'\n",
    "\t}\n",
    "}\n",
    "\n",
    "workDir = 'placeholder'\n",
    "\n",
    "docker.enabled = true\n"
   ]
  },
  {
   "cell_type": "code",
   "execution_count": 10,
   "id": "a6208c53-f577-4cb2-ac5c-bdfbb6145113",
   "metadata": {},
   "outputs": [
    {
     "name": "stdout",
     "output_type": "stream",
     "text": [
      "N E X T F L O W  ~  version 22.10.6\n",
      "Launching `main.nf` [berserk_fermi] DSL2 - revision: b2de046d02\n",
      "[-        ] process > identify_chip_variants -\u001b[K\n",
      "\u001b[2A\n",
      "[-        ] process > identify_chip_variants [  0%] 0 of 1\u001b[K\n",
      "\u001b[2A\n",
      "executor >  awsbatch (1)\u001b[K\n",
      "[db/2bf383] process > identify_chip_variants (1) [  0%] 0 of 2\u001b[K\n",
      "\u001b[3A\n",
      "executor >  awsbatch (2)\u001b[K\n",
      "[66/fad34a] process > identify_chip_variants (2) [  0%] 0 of 2\u001b[K\n",
      "\u001b[3A\n",
      "executor >  awsbatch (2)\u001b[K\n",
      "[66/fad34a] process > identify_chip_variants (2) [  0%] 0 of 2\u001b[K\n",
      "\u001b[3A\n",
      "executor >  awsbatch (2)\u001b[K\n",
      "[66/fad34a] process > identify_chip_variants (2) [ 50%] 1 of 2\u001b[K\n",
      "\u001b[3A\n",
      "executor >  awsbatch (2)\u001b[K\n",
      "[66/fad34a] process > identify_chip_variants (2) [ 50%] 1 of 2\u001b[K\n",
      "\u001b[3A\n",
      "executor >  awsbatch (2)\u001b[K\n",
      "[66/fad34a] process > identify_chip_variants (2) [ 50%] 1 of 2 ✔\u001b[K\n",
      "\u001b[3A\n",
      "executor >  awsbatch (2)\u001b[K\n",
      "[db/2bf383] process > identify_chip_variants (1) [100%] 2 of 2 ✔\u001b[K\n",
      "\u001b[32;1mCompleted at: 21-Mar-2024 19:50:34\n",
      "Duration    : 1m 11s\n",
      "CPU hours   : (a few seconds)\n",
      "Succeeded   : 2\n",
      "\u001b[22;39m\u001b[K\n",
      "\n"
     ]
    }
   ],
   "source": [
    "!nextflow run main.nf -dsl2"
   ]
  },
  {
   "cell_type": "code",
   "execution_count": null,
   "id": "a06bb8ed-dbff-467d-956f-db5bbfefb608",
   "metadata": {},
   "outputs": [],
   "source": []
  }
 ],
 "metadata": {
  "kernelspec": {
   "display_name": "Python 3 (ipykernel)",
   "language": "python",
   "name": "python3"
  },
  "language_info": {
   "codemirror_mode": {
    "name": "ipython",
    "version": 3
   },
   "file_extension": ".py",
   "mimetype": "text/x-python",
   "name": "python",
   "nbconvert_exporter": "python",
   "pygments_lexer": "ipython3",
   "version": "3.11.6"
  }
 },
 "nbformat": 4,
 "nbformat_minor": 5
}
