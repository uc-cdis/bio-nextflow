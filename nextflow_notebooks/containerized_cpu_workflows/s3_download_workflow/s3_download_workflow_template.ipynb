{
 "cells": [
  {
   "cell_type": "code",
   "execution_count": null,
   "id": "a385b170-0b23-4b3e-b686-15377b4b9520",
   "metadata": {},
   "outputs": [],
   "source": [
    "%%writefile main.nf\n",
    "#!/usr/bin/env nextflow\n",
    "\n",
    "process s3_workflow {\n",
    "    \n",
    "    label 's3'\n",
    "    \n",
    "    output:\n",
    "    stdout emit: s3_download_log\n",
    "    path('*.csv'), emit: csv_files\n",
    "    \n",
    "    script:\n",
    "    \"\"\"\n",
    "    python3 /utils/s3_download_and_model.py --bucket-name placeholder --key-id placeholder --secret-key placeholder\n",
    "    \n",
    "    \"\"\"\n",
    "}\n",
    "\n",
    "workflow {\n",
    "    s3_workflow()\n",
    "}"
   ]
  },
  {
   "cell_type": "code",
   "execution_count": null,
   "id": "6a4abe36-1bcc-40d6-a7af-f9c46d43e252",
   "metadata": {},
   "outputs": [],
   "source": [
    "%%writefile nextflow.config\n",
    "\n",
    "process {\n",
    "    withLabel: s3 {\n",
    "        executor = 'awsbatch'\n",
    "        queue = 'placeholder'\n",
    "        container = 'placeholder'\n",
    "    } \n",
    "}\n",
    "\n",
    "aws {\n",
    "    region = 'us-east-1'\n",
    "    batch {\n",
    "        cliPath = '/home/ec2-user/miniconda/bin/aws'\n",
    "        jobRole = 'placeholder'\n",
    "    }\n",
    "}\n",
    "workDir = 'placeholder'\n",
    "\n",
    "docker.enabled = true"
   ]
  },
  {
   "cell_type": "code",
   "execution_count": null,
   "id": "e8560b3d-29f9-43ba-8b9c-05efe66fcb96",
   "metadata": {},
   "outputs": [],
   "source": [
    "!nextflow run main.nf -dsl2"
   ]
  },
  {
   "cell_type": "markdown",
   "id": "1da00877-0c5d-4676-ae09-fa4b9019826a",
   "metadata": {},
   "source": [
    "## Download Workflow Results"
   ]
  },
  {
   "cell_type": "code",
   "execution_count": null,
   "id": "0c7ac028-971f-49c6-b7a5-45fa8b20213a",
   "metadata": {},
   "outputs": [],
   "source": [
    "!pip install -q awscli\n",
    "import os\n",
    "import pandas as pd"
   ]
  },
  {
   "cell_type": "code",
   "execution_count": null,
   "id": "3035f634-7f83-4e13-905d-f47e43d9e76a",
   "metadata": {},
   "outputs": [],
   "source": [
    "# Get the aws endpoints for each batch process. Since we are running two processes on 5 threads there will be 10 total endpoints.\n",
    "end_points = []\n",
    "with open(\".nextflow.log\", 'r') as f:\n",
    "    for line in f:\n",
    "        if \"COMPLETED\" in line:\n",
    "            end_points.append(line.split(' ')[-1][:-2])\n",
    "\n",
    "for i in range(len(end_points)):\n",
    "    command = f'aws s3 cp {end_points[i]}/ ./results/ --recursive --exclude \"*\" --include \"*\" --quiet'\n",
    "    os.system(command)"
   ]
  },
  {
   "cell_type": "code",
   "execution_count": null,
   "id": "abf1cefc-d283-4502-881b-54c75608dc72",
   "metadata": {},
   "outputs": [],
   "source": [
    "results_df = pd.read_csv('results/rfc_results_df.csv')\n",
    "results_df.head()"
   ]
  },
  {
   "cell_type": "code",
   "execution_count": null,
   "id": "c1dc94a1-4845-49f7-88dc-1b67a1452248",
   "metadata": {},
   "outputs": [],
   "source": []
  }
 ],
 "metadata": {
  "kernelspec": {
   "display_name": "Python 3 (ipykernel)",
   "language": "python",
   "name": "python3"
  },
  "language_info": {
   "codemirror_mode": {
    "name": "ipython",
    "version": 3
   },
   "file_extension": ".py",
   "mimetype": "text/x-python",
   "name": "python",
   "nbconvert_exporter": "python",
   "pygments_lexer": "ipython3",
   "version": "3.11.6"
  }
 },
 "nbformat": 4,
 "nbformat_minor": 5
}
