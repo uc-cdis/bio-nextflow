{
 "cells": [
  {
   "cell_type": "code",
   "execution_count": null,
   "id": "aee43295-f56b-4b6f-94d7-3a1277d8793c",
   "metadata": {},
   "outputs": [],
   "source": [
    "%%writefile main.nf\n",
    "#!/usr/bin/env nextflow\n",
    "\n",
    "/* pipeline input parameters, update this to your data dir */\n",
    "\n",
    "bdcat_vcfs =  \"$baseDir/gdc_vcf/*.vcf.gz\"\n",
    "reference_file =  \"$baseDir/gdc_vcf/aacr.chip.project.tsv\"\n",
    "\n",
    "project_dir = projectDir\n",
    "\n",
    "process vcf_extraction {\n",
    "    \n",
    "    label 'vcf_analysis'\n",
    "    \n",
    "    input:\n",
    "    path vcf_files\n",
    "    file chips_ref_file\n",
    "    \n",
    "    output:\n",
    "    stdout emit: gdc_api_log\n",
    "    path('*.csv'), emit: csv_files\n",
    "    \n",
    "    script:\n",
    "    \"\"\"\n",
    "    python3 /app/analyze_vcf_plain.py --input-vcf $vcf_files --output-csv 'analysis_results.csv' --chip-truth-variants $chips_ref_file\n",
    "    \"\"\"\n",
    "    \n",
    "}\n",
    "\n",
    "// Define the entry workflow (initial workflow for Nextflow to run)\n",
    "workflow {\n",
    "   \n",
    "    bdcat_vcf_files = Channel.fromPath( bdcat_vcfs )\n",
    "    ref_file = file(reference_file)\n",
    "    vcf_extraction(bdcat_vcf_files, ref_file)\n",
    "}"
   ]
  },
  {
   "cell_type": "code",
   "execution_count": null,
   "id": "e95b2e7d-3e49-491a-95b9-4a950fecd7f0",
   "metadata": {},
   "outputs": [],
   "source": [
    "%%writefile nextflow.config\n",
    "\n",
    "\n",
    "process {\n",
    "    withLabel: vcf_analysis {\n",
    "        executor = 'awsbatch'\n",
    "        queue = 'placeholder'\n",
    "        container = 'placeholder'\n",
    "    } \n",
    "}\n",
    "\n",
    "aws {\n",
    "    region = 'us-east-1'\n",
    "    batch {\n",
    "        cliPath = '/home/ec2-user/miniconda/bin/aws'\n",
    "        jobRole = 'placeholder'\n",
    "    }\n",
    "}\n",
    "workDir = 'placeholder'\n",
    "\n",
    "\n",
    "docker.enabled = true"
   ]
  },
  {
   "cell_type": "code",
   "execution_count": null,
   "id": "6baccafb-fbde-496f-8396-0797018e1c27",
   "metadata": {},
   "outputs": [],
   "source": [
    "!nextflow run main.nf -dsl2"
   ]
  },
  {
   "cell_type": "code",
   "execution_count": null,
   "id": "f3e476cc-40e1-4b93-b6f8-08a91d419d1d",
   "metadata": {},
   "outputs": [],
   "source": [
    "!pip install -q awscli\n",
    "import os\n",
    "import pandas as pd"
   ]
  },
  {
   "cell_type": "code",
   "execution_count": null,
   "id": "76db4f8a-0f67-4bde-b08a-e55f267ac6e8",
   "metadata": {},
   "outputs": [],
   "source": [
    "# Get the aws endpoints for each batch process. Since we are running two processes on 5 threads there will be 10 total endpoints.\n",
    "end_points = []\n",
    "with open(\".nextflow.log\", 'r') as f:\n",
    "    for line in f:\n",
    "        if \"COMPLETED\" in line:\n",
    "            end_points.append(line.split(' ')[-1][:-2])"
   ]
  },
  {
   "cell_type": "code",
   "execution_count": null,
   "id": "a92fac7c-2cbc-4a63-8367-3fc3f7100cb3",
   "metadata": {},
   "outputs": [],
   "source": [
    "# Download the results from each batch session. The results are all placed into a local 'results' folder.\n",
    "for i in range(len(end_points)):\n",
    "    command = f'aws s3 cp {end_points[i]}/ ./results/ --recursive --exclude \"*\" --include \"*\" --quiet'\n",
    "    os.system(command)"
   ]
  },
  {
   "cell_type": "code",
   "execution_count": null,
   "id": "fd22e7c5-31ba-4dfb-9696-12a5899d3605",
   "metadata": {},
   "outputs": [],
   "source": [
    "results_df = pd.read_csv('results/analysis_results.csv')\n",
    "results_df"
   ]
  },
  {
   "cell_type": "code",
   "execution_count": null,
   "id": "5457ad2c-4f5d-4c63-98f3-2d96b678614a",
   "metadata": {},
   "outputs": [],
   "source": []
  }
 ],
 "metadata": {
  "kernelspec": {
   "display_name": "Python 3 (ipykernel)",
   "language": "python",
   "name": "python3"
  },
  "language_info": {
   "codemirror_mode": {
    "name": "ipython",
    "version": 3
   },
   "file_extension": ".py",
   "mimetype": "text/x-python",
   "name": "python",
   "nbconvert_exporter": "python",
   "pygments_lexer": "ipython3",
   "version": "3.11.6"
  }
 },
 "nbformat": 4,
 "nbformat_minor": 5
}
