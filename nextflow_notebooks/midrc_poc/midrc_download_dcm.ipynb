{
 "cells": [
  {
   "cell_type": "markdown",
   "id": "5b9fb4ae-7099-479a-8d5b-8165ce639009",
   "metadata": {},
   "source": [
    "# install packages"
   ]
  },
  {
   "cell_type": "code",
   "execution_count": 1,
   "id": "4c2d6917-0ce1-4888-b18d-469dd03b0336",
   "metadata": {
    "tags": []
   },
   "outputs": [
    {
     "name": "stdout",
     "output_type": "stream",
     "text": [
      "Collecting pyyaml==5.3.1\n",
      "  Downloading PyYAML-5.3.1.tar.gz (269 kB)\n",
      "\u001b[2K     \u001b[90m━━━━━━━━━━━━━━━━━━━━━━━━━━━━━━━━━━━━━━\u001b[0m \u001b[32m269.4/269.4 kB\u001b[0m \u001b[31m15.1 MB/s\u001b[0m eta \u001b[36m0:00:00\u001b[0m\n",
      "\u001b[?25h  Preparing metadata (setup.py) ... \u001b[?25ldone\n",
      "\u001b[?25hBuilding wheels for collected packages: pyyaml\n",
      "  Building wheel for pyyaml (setup.py) ... \u001b[?25ldone\n",
      "\u001b[?25h  Created wheel for pyyaml: filename=PyYAML-5.3.1-cp310-cp310-linux_x86_64.whl size=44635 sha256=9564042fac9149e5744b7120873c79692e40bc5edd9b62e5fb7c15ebb4108815\n",
      "  Stored in directory: /home/jovyan/.cache/pip/wheels/0b/a9/6a/d0a6981a8dbb698845178818642f72ce179f14336908c7df01\n",
      "Successfully built pyyaml\n",
      "Installing collected packages: pyyaml\n",
      "  Attempting uninstall: pyyaml\n",
      "    Found existing installation: PyYAML 6.0\n",
      "    Uninstalling PyYAML-6.0:\n",
      "      Successfully uninstalled PyYAML-6.0\n",
      "Successfully installed pyyaml-5.3.1\n"
     ]
    }
   ],
   "source": [
    "!pip install pyyaml==5.3.1"
   ]
  },
  {
   "cell_type": "code",
   "execution_count": 2,
   "id": "92504c5b-87f5-469d-87cd-1f848d4dbdef",
   "metadata": {
    "tags": []
   },
   "outputs": [
    {
     "name": "stdout",
     "output_type": "stream",
     "text": [
      "Collecting gen3\n",
      "  Downloading gen3-4.21.0-py3-none-any.whl (162 kB)\n",
      "\u001b[2K     \u001b[90m━━━━━━━━━━━━━━━━━━━━━━━━━━━━━━━━━━━━━━\u001b[0m \u001b[32m162.7/162.7 kB\u001b[0m \u001b[31m11.8 MB/s\u001b[0m eta \u001b[36m0:00:00\u001b[0m\n",
      "\u001b[?25hRequirement already satisfied: click in /opt/conda/lib/python3.10/site-packages (from gen3) (8.1.3)\n",
      "Collecting indexclient\n",
      "  Downloading indexclient-2.2.1.tar.gz (17 kB)\n",
      "  Preparing metadata (setup.py) ... \u001b[?25ldone\n",
      "\u001b[?25hCollecting aiofiles<0.9.0,>=0.8.0\n",
      "  Downloading aiofiles-0.8.0-py3-none-any.whl (13 kB)\n",
      "Collecting dataclasses-json\n",
      "  Downloading dataclasses_json-0.6.0-py3-none-any.whl (27 kB)\n",
      "Collecting pypfb<1.0.0\n",
      "  Downloading pypfb-0.5.0-py3-none-any.whl (20 kB)\n",
      "Collecting backoff\n",
      "  Downloading backoff-2.2.1-py3-none-any.whl (15 kB)\n",
      "Collecting humanfriendly\n",
      "  Downloading humanfriendly-10.0-py2.py3-none-any.whl (86 kB)\n",
      "\u001b[2K     \u001b[90m━━━━━━━━━━━━━━━━━━━━━━━━━━━━━━━━━━━━━━━━\u001b[0m \u001b[32m86.8/86.8 kB\u001b[0m \u001b[31m21.6 MB/s\u001b[0m eta \u001b[36m0:00:00\u001b[0m\n",
      "\u001b[?25hRequirement already satisfied: jsonschema in /opt/conda/lib/python3.10/site-packages (from gen3) (4.17.3)\n",
      "Collecting cdislogging<2.0.0,>=1.1.0\n",
      "  Downloading cdislogging-1.1.1.tar.gz (8.3 kB)\n",
      "  Preparing metadata (setup.py) ... \u001b[?25ldone\n",
      "\u001b[?25hCollecting drsclient<0.3.0,>=0.2.2\n",
      "  Downloading drsclient-0.2.3.tar.gz (7.0 kB)\n",
      "  Installing build dependencies ... \u001b[?25ldone\n",
      "\u001b[?25h  Getting requirements to build wheel ... \u001b[?25ldone\n",
      "\u001b[?25h  Preparing metadata (pyproject.toml) ... \u001b[?25ldone\n",
      "\u001b[?25hCollecting httpx\n",
      "  Downloading httpx-0.25.0-py3-none-any.whl (75 kB)\n",
      "\u001b[2K     \u001b[90m━━━━━━━━━━━━━━━━━━━━━━━━━━━━━━━━━━━━━━━━\u001b[0m \u001b[32m75.7/75.7 kB\u001b[0m \u001b[31m19.1 MB/s\u001b[0m eta \u001b[36m0:00:00\u001b[0m\n",
      "\u001b[?25hRequirement already satisfied: requests in /opt/conda/lib/python3.10/site-packages (from gen3) (2.28.2)\n",
      "Collecting xmltodict<0.14.0,>=0.13.0\n",
      "  Downloading xmltodict-0.13.0-py2.py3-none-any.whl (10.0 kB)\n",
      "Collecting aiohttp\n",
      "  Downloading aiohttp-3.8.5-cp310-cp310-manylinux_2_17_x86_64.manylinux2014_x86_64.whl (1.0 MB)\n",
      "\u001b[2K     \u001b[90m━━━━━━━━━━━━━━━━━━━━━━━━━━━━━━━━━━━━━━━━\u001b[0m \u001b[32m1.0/1.0 MB\u001b[0m \u001b[31m74.9 MB/s\u001b[0m eta \u001b[36m0:00:00\u001b[0m\n",
      "\u001b[?25hRequirement already satisfied: pandas<2.0.0,>=1.4.2 in /opt/conda/lib/python3.10/site-packages (from gen3) (1.5.3)\n",
      "Requirement already satisfied: urllib3<2.0.0 in /opt/conda/lib/python3.10/site-packages (from gen3) (1.26.15)\n",
      "Requirement already satisfied: python-dateutil in /opt/conda/lib/python3.10/site-packages (from gen3) (2.8.2)\n",
      "Requirement already satisfied: tqdm<5.0.0,>=4.61.2 in /opt/conda/lib/python3.10/site-packages (from gen3) (4.65.0)\n",
      "Collecting httpx\n",
      "  Downloading httpx-0.23.3-py3-none-any.whl (71 kB)\n",
      "\u001b[2K     \u001b[90m━━━━━━━━━━━━━━━━━━━━━━━━━━━━━━━━━━━━━━━━\u001b[0m \u001b[32m71.5/71.5 kB\u001b[0m \u001b[31m17.6 MB/s\u001b[0m eta \u001b[36m0:00:00\u001b[0m\n",
      "\u001b[?25hCollecting asyncio<4.0.0,>=3.4.3\n",
      "  Downloading asyncio-3.4.3-py3-none-any.whl (101 kB)\n",
      "\u001b[2K     \u001b[90m━━━━━━━━━━━━━━━━━━━━━━━━━━━━━━━━━━━━━━\u001b[0m \u001b[32m101.8/101.8 kB\u001b[0m \u001b[31m22.0 MB/s\u001b[0m eta \u001b[36m0:00:00\u001b[0m\n",
      "\u001b[?25hCollecting backoff\n",
      "  Downloading backoff-1.11.1-py2.py3-none-any.whl (13 kB)\n",
      "Collecting httpcore<0.17.0,>=0.15.0\n",
      "  Downloading httpcore-0.16.3-py3-none-any.whl (69 kB)\n",
      "\u001b[2K     \u001b[90m━━━━━━━━━━━━━━━━━━━━━━━━━━━━━━━━━━━━━━━━\u001b[0m \u001b[32m69.6/69.6 kB\u001b[0m \u001b[31m18.2 MB/s\u001b[0m eta \u001b[36m0:00:00\u001b[0m\n",
      "\u001b[?25hCollecting rfc3986[idna2008]<2,>=1.3\n",
      "  Downloading rfc3986-1.5.0-py2.py3-none-any.whl (31 kB)\n",
      "Requirement already satisfied: sniffio in /opt/conda/lib/python3.10/site-packages (from httpx->gen3) (1.3.0)\n",
      "Requirement already satisfied: certifi in /opt/conda/lib/python3.10/site-packages (from httpx->gen3) (2023.7.22)\n",
      "Requirement already satisfied: pytz>=2020.1 in /opt/conda/lib/python3.10/site-packages (from pandas<2.0.0,>=1.4.2->gen3) (2022.7.1)\n",
      "Requirement already satisfied: numpy>=1.21.0 in /opt/conda/lib/python3.10/site-packages (from pandas<2.0.0,>=1.4.2->gen3) (1.23.5)\n",
      "Collecting gdcdictionary<2.0.0,>=1.2.0\n",
      "  Downloading gdcdictionary-1.2.0.tar.gz (41 kB)\n",
      "\u001b[2K     \u001b[90m━━━━━━━━━━━━━━━━━━━━━━━━━━━━━━━━━━━━━━━━\u001b[0m \u001b[32m41.6/41.6 kB\u001b[0m \u001b[31m9.7 MB/s\u001b[0m eta \u001b[36m0:00:00\u001b[0m\n",
      "\u001b[?25h  Preparing metadata (setup.py) ... \u001b[?25ldone\n",
      "\u001b[?25hCollecting dictionaryutils<=3.0.2\n",
      "  Downloading dictionaryutils-3.0.2.tar.gz (12 kB)\n",
      "  Preparing metadata (setup.py) ... \u001b[?25ldone\n",
      "\u001b[?25hCollecting python-json-logger<0.2.0,>=0.1.11\n",
      "  Downloading python-json-logger-0.1.11.tar.gz (6.0 kB)\n",
      "  Preparing metadata (setup.py) ... \u001b[?25ldone\n",
      "\u001b[?25hRequirement already satisfied: PyYAML<6.0.0,>=5.3.1 in /opt/conda/lib/python3.10/site-packages (from pypfb<1.0.0->gen3) (5.3.1)\n",
      "Collecting fastavro<2.0.0,>=1.0.0\n",
      "  Downloading fastavro-1.8.3-cp310-cp310-manylinux_2_17_x86_64.manylinux2014_x86_64.whl (2.7 MB)\n",
      "\u001b[2K     \u001b[90m━━━━━━━━━━━━━━━━━━━━━━━━━━━━━━━━━━━━━━━━\u001b[0m \u001b[32m2.7/2.7 MB\u001b[0m \u001b[31m25.5 MB/s\u001b[0m eta \u001b[36m0:00:00\u001b[0m:00:01\u001b[0m\n",
      "\u001b[?25hCollecting click\n",
      "  Downloading click-7.1.2-py2.py3-none-any.whl (82 kB)\n",
      "\u001b[2K     \u001b[90m━━━━━━━━━━━━━━━━━━━━━━━━━━━━━━━━━━━━━━━━\u001b[0m \u001b[32m82.8/82.8 kB\u001b[0m \u001b[31m14.6 MB/s\u001b[0m eta \u001b[36m0:00:00\u001b[0m\n",
      "\u001b[?25hRequirement already satisfied: six>=1.5 in /opt/conda/lib/python3.10/site-packages (from python-dateutil->gen3) (1.16.0)\n",
      "Requirement already satisfied: charset-normalizer<4,>=2 in /opt/conda/lib/python3.10/site-packages (from requests->gen3) (2.1.1)\n",
      "Requirement already satisfied: idna<4,>=2.5 in /opt/conda/lib/python3.10/site-packages (from requests->gen3) (3.4)\n",
      "Collecting frozenlist>=1.1.1\n",
      "  Downloading frozenlist-1.4.0-cp310-cp310-manylinux_2_5_x86_64.manylinux1_x86_64.manylinux_2_17_x86_64.manylinux2014_x86_64.whl (225 kB)\n",
      "\u001b[2K     \u001b[90m━━━━━━━━━━━━━━━━━━━━━━━━━━━━━━━━━━━━━━\u001b[0m \u001b[32m225.7/225.7 kB\u001b[0m \u001b[31m42.9 MB/s\u001b[0m eta \u001b[36m0:00:00\u001b[0m\n",
      "\u001b[?25hRequirement already satisfied: attrs>=17.3.0 in /opt/conda/lib/python3.10/site-packages (from aiohttp->gen3) (22.2.0)\n",
      "Collecting async-timeout<5.0,>=4.0.0a3\n",
      "  Downloading async_timeout-4.0.3-py3-none-any.whl (5.7 kB)\n",
      "Collecting yarl<2.0,>=1.0\n",
      "  Downloading yarl-1.9.2-cp310-cp310-manylinux_2_17_x86_64.manylinux2014_x86_64.whl (268 kB)\n",
      "\u001b[2K     \u001b[90m━━━━━━━━━━━━━━━━━━━━━━━━━━━━━━━━━━━━━━\u001b[0m \u001b[32m268.8/268.8 kB\u001b[0m \u001b[31m48.2 MB/s\u001b[0m eta \u001b[36m0:00:00\u001b[0m\n",
      "\u001b[?25hCollecting aiosignal>=1.1.2\n",
      "  Downloading aiosignal-1.3.1-py3-none-any.whl (7.6 kB)\n",
      "Collecting multidict<7.0,>=4.5\n",
      "  Downloading multidict-6.0.4-cp310-cp310-manylinux_2_17_x86_64.manylinux2014_x86_64.whl (114 kB)\n",
      "\u001b[2K     \u001b[90m━━━━━━━━━━━━━━━━━━━━━━━━━━━━━━━━━━━━━━\u001b[0m \u001b[32m114.5/114.5 kB\u001b[0m \u001b[31m24.8 MB/s\u001b[0m eta \u001b[36m0:00:00\u001b[0m\n",
      "\u001b[?25hCollecting typing-inspect<1,>=0.4.0\n",
      "  Downloading typing_inspect-0.9.0-py3-none-any.whl (8.8 kB)\n",
      "Collecting marshmallow<4.0.0,>=3.18.0\n",
      "  Downloading marshmallow-3.20.1-py3-none-any.whl (49 kB)\n",
      "\u001b[2K     \u001b[90m━━━━━━━━━━━━━━━━━━━━━━━━━━━━━━━━━━━━━━━━\u001b[0m \u001b[32m49.4/49.4 kB\u001b[0m \u001b[31m8.1 MB/s\u001b[0m eta \u001b[36m0:00:00\u001b[0m\n",
      "\u001b[?25hRequirement already satisfied: pyrsistent!=0.17.0,!=0.17.1,!=0.17.2,>=0.14.0 in /opt/conda/lib/python3.10/site-packages (from jsonschema->gen3) (0.19.3)\n",
      "Collecting jsonschema\n",
      "  Downloading jsonschema-3.2.0-py2.py3-none-any.whl (56 kB)\n",
      "\u001b[2K     \u001b[90m━━━━━━━━━━━━━━━━━━━━━━━━━━━━━━━━━━━━━━━━\u001b[0m \u001b[32m56.3/56.3 kB\u001b[0m \u001b[31m10.9 MB/s\u001b[0m eta \u001b[36m0:00:00\u001b[0m\n",
      "\u001b[?25hRequirement already satisfied: setuptools in /opt/conda/lib/python3.10/site-packages (from jsonschema->gen3) (67.6.0)\n",
      "Requirement already satisfied: anyio<5.0,>=3.0 in /opt/conda/lib/python3.10/site-packages (from httpcore<0.17.0,>=0.15.0->httpx->gen3) (3.6.2)\n",
      "Collecting h11<0.15,>=0.13\n",
      "  Downloading h11-0.14.0-py3-none-any.whl (58 kB)\n",
      "\u001b[2K     \u001b[90m━━━━━━━━━━━━━━━━━━━━━━━━━━━━━━━━━━━━━━━━\u001b[0m \u001b[32m58.3/58.3 kB\u001b[0m \u001b[31m14.1 MB/s\u001b[0m eta \u001b[36m0:00:00\u001b[0m\n",
      "\u001b[?25hRequirement already satisfied: packaging>=17.0 in /opt/conda/lib/python3.10/site-packages (from marshmallow<4.0.0,>=3.18.0->dataclasses-json->gen3) (23.0)\n",
      "Collecting mypy-extensions>=0.3.0\n",
      "  Downloading mypy_extensions-1.0.0-py3-none-any.whl (4.7 kB)\n",
      "Requirement already satisfied: typing-extensions>=3.7.4 in /opt/conda/lib/python3.10/site-packages (from typing-inspect<1,>=0.4.0->dataclasses-json->gen3) (4.5.0)\n",
      "Building wheels for collected packages: cdislogging, drsclient, indexclient, dictionaryutils, gdcdictionary, python-json-logger\n",
      "  Building wheel for cdislogging (setup.py) ... \u001b[?25ldone\n",
      "\u001b[?25h  Created wheel for cdislogging: filename=cdislogging-1.1.1-py3-none-any.whl size=7175 sha256=295b4af04c8f5e68f8d6f6af0bfdcd2569ec70a95f59d79a4a0beecd7c6ffeb7\n",
      "  Stored in directory: /home/jovyan/.cache/pip/wheels/00/f2/73/c2d29c6e1409ad9079554720c2265832a2694e889d95c1d0bc\n",
      "  Building wheel for drsclient (pyproject.toml) ... \u001b[?25ldone\n",
      "\u001b[?25h  Created wheel for drsclient: filename=drsclient-0.2.3-py3-none-any.whl size=7424 sha256=afe1c17439952f320bff9bd768fe6823129dc5c4e8314afdc4c298936ceade84\n",
      "  Stored in directory: /home/jovyan/.cache/pip/wheels/a5/19/55/f0f39d2b7282e032ca370a17617eda01c4900c64849a31249f\n",
      "  Building wheel for indexclient (setup.py) ... \u001b[?25ldone\n",
      "\u001b[?25h  Created wheel for indexclient: filename=indexclient-2.2.1-py3-none-any.whl size=17853 sha256=e66f54068468568eb991c1cf0c01c74dae0e19b2620fc9628d97840ed02eff71\n",
      "  Stored in directory: /home/jovyan/.cache/pip/wheels/69/ac/90/e28dc25021ea17d74b1f28a7c6c59b683dd8d4e22d2305c000\n",
      "  Building wheel for dictionaryutils (setup.py) ... \u001b[?25ldone\n",
      "\u001b[?25h  Created wheel for dictionaryutils: filename=dictionaryutils-3.0.2-py3-none-any.whl size=14716 sha256=02721da8c712340dc9aaee42f88834bdc8ef3b51c2dcecb64a47328fdcb8f8fc\n",
      "  Stored in directory: /home/jovyan/.cache/pip/wheels/71/31/66/8032a9e38d7a0f7f50371fad147774edead7b07d1f0c395fc1\n",
      "  Building wheel for gdcdictionary (setup.py) ... \u001b[?25ldone\n",
      "\u001b[?25h  Created wheel for gdcdictionary: filename=gdcdictionary-1.2.0-py3-none-any.whl size=58325 sha256=b5289f5549d16c081515918479decf6c5b926050362078119e3457783012ada9\n",
      "  Stored in directory: /home/jovyan/.cache/pip/wheels/36/4a/c1/acd7d66d40cf2bbc2429a82235773726f9f0dcf40ba0e9096d\n",
      "  Building wheel for python-json-logger (setup.py) ... \u001b[?25ldone\n",
      "\u001b[?25h  Created wheel for python-json-logger: filename=python_json_logger-0.1.11-py2.py3-none-any.whl size=5075 sha256=0c65f8d168b74493094c5d6e0188c30ed05d11b6a07df83f7bedbbfb3bb37144\n",
      "  Stored in directory: /home/jovyan/.cache/pip/wheels/73/b7/46/64fff887c2a764160d846526dd422b824614c9e70f997abf88\n",
      "Successfully built cdislogging drsclient indexclient dictionaryutils gdcdictionary python-json-logger\n",
      "Installing collected packages: rfc3986, cdislogging, asyncio, xmltodict, python-json-logger, mypy-extensions, multidict, marshmallow, jsonschema, humanfriendly, h11, frozenlist, fastavro, click, backoff, async-timeout, aiofiles, yarl, typing-inspect, indexclient, httpcore, dictionaryutils, aiosignal, httpx, gdcdictionary, dataclasses-json, aiohttp, pypfb, drsclient, gen3\n",
      "  Attempting uninstall: python-json-logger\n",
      "    Found existing installation: python-json-logger 2.0.7\n",
      "    Uninstalling python-json-logger-2.0.7:\n",
      "      Successfully uninstalled python-json-logger-2.0.7\n",
      "  Attempting uninstall: jsonschema\n",
      "    Found existing installation: jsonschema 4.17.3\n",
      "    Uninstalling jsonschema-4.17.3:\n",
      "      Successfully uninstalled jsonschema-4.17.3\n",
      "  Attempting uninstall: click\n",
      "    Found existing installation: click 8.1.3\n",
      "    Uninstalling click-8.1.3:\n",
      "      Successfully uninstalled click-8.1.3\n",
      "  Attempting uninstall: aiofiles\n",
      "    Found existing installation: aiofiles 22.1.0\n",
      "    Uninstalling aiofiles-22.1.0:\n",
      "      Successfully uninstalled aiofiles-22.1.0\n",
      "\u001b[31mERROR: pip's dependency resolver does not currently take into account all the packages that are installed. This behaviour is the source of the following dependency conflicts.\n",
      "ypy-websocket 0.8.2 requires aiofiles<23,>=22.1.0, but you have aiofiles 0.8.0 which is incompatible.\n",
      "jupyterlab-server 2.20.0 requires jsonschema>=4.17.3, but you have jsonschema 3.2.0 which is incompatible.\n",
      "jupyter-events 0.6.3 requires python-json-logger>=2.0.4, but you have python-json-logger 0.1.11 which is incompatible.\n",
      "distributed 2023.3.1 requires click>=8.0, but you have click 7.1.2 which is incompatible.\u001b[0m\u001b[31m\n",
      "\u001b[0mSuccessfully installed aiofiles-0.8.0 aiohttp-3.8.5 aiosignal-1.3.1 async-timeout-4.0.3 asyncio-3.4.3 backoff-1.11.1 cdislogging-1.1.1 click-7.1.2 dataclasses-json-0.6.0 dictionaryutils-3.0.2 drsclient-0.2.3 fastavro-1.8.3 frozenlist-1.4.0 gdcdictionary-1.2.0 gen3-4.21.0 h11-0.14.0 httpcore-0.16.3 httpx-0.23.3 humanfriendly-10.0 indexclient-2.2.1 jsonschema-3.2.0 marshmallow-3.20.1 multidict-6.0.4 mypy-extensions-1.0.0 pypfb-0.5.0 python-json-logger-0.1.11 rfc3986-1.5.0 typing-inspect-0.9.0 xmltodict-0.13.0 yarl-1.9.2\n"
     ]
    }
   ],
   "source": [
    "!pip install gen3"
   ]
  },
  {
   "cell_type": "code",
   "execution_count": 3,
   "id": "e1b37db1-dddf-4c0f-b90a-a39ad6e2fc47",
   "metadata": {
    "tags": []
   },
   "outputs": [
    {
     "name": "stdout",
     "output_type": "stream",
     "text": [
      "Collecting pydicom\n",
      "  Downloading pydicom-2.4.3-py3-none-any.whl (1.8 MB)\n",
      "\u001b[2K     \u001b[90m━━━━━━━━━━━━━━━━━━━━━━━━━━━━━━━━━━━━━━━━\u001b[0m \u001b[32m1.8/1.8 MB\u001b[0m \u001b[31m63.7 MB/s\u001b[0m eta \u001b[36m0:00:00\u001b[0m\n",
      "\u001b[?25hInstalling collected packages: pydicom\n",
      "Successfully installed pydicom-2.4.3\n"
     ]
    }
   ],
   "source": [
    "!pip install pydicom"
   ]
  },
  {
   "cell_type": "code",
   "execution_count": 25,
   "id": "d210a934-4928-4e71-bf0f-9f12a6718424",
   "metadata": {
    "tags": []
   },
   "outputs": [],
   "source": [
    "import gen3\n",
    "import os\n",
    "import time"
   ]
  },
  {
   "cell_type": "code",
   "execution_count": 34,
   "id": "e2a61578-1af9-44aa-883d-b93a2f80a7b4",
   "metadata": {
    "tags": []
   },
   "outputs": [
    {
     "name": "stdout",
     "output_type": "stream",
     "text": [
      "{\"succeeded\": [\"dg.MD1R/ea669b5e-ae51-40ba-b375-ed23a9cd1855\"], \"failed\": []}\n"
     ]
    },
    {
     "data": {
      "text/plain": [
       "0"
      ]
     },
     "execution_count": 34,
     "metadata": {},
     "output_type": "execute_result"
    }
   ],
   "source": [
    "# test pulling MIDRC GUIDs -- this works\n",
    "os.system(\"gen3 --auth midrc_credentials.json --endpoint data.midrc.org drs-pull object dg.MD1R/ea669b5e-ae51-40ba-b375-ed23a9cd1855\")\n",
    "          "
   ]
  },
  {
   "cell_type": "code",
   "execution_count": 24,
   "id": "375defb6-4f8c-46f1-9db9-b735febffd4c",
   "metadata": {
    "tags": []
   },
   "outputs": [
    {
     "name": "stdout",
     "output_type": "stream",
     "text": [
      "{\"succeeded\": [\"dg.MD1R/a745ed98-0cb9-4537-826b-13b2e354e8bb\"], \"failed\": []}\n"
     ]
    }
   ],
   "source": [
    "#!gen3 --auth midrc_credentials.json --endpoint data.midrc.org drs-pull object dg.MD1R/a745ed98-0cb9-4537-826b-13b2e354e8bb"
   ]
  },
  {
   "cell_type": "markdown",
   "id": "7a227c70-6fbd-45be-90db-ed73d36d17f1",
   "metadata": {},
   "source": [
    "# write nextflow config"
   ]
  },
  {
   "cell_type": "code",
   "execution_count": 17,
   "id": "4b14425f-e203-4b33-b2e4-5c44aaf02d96",
   "metadata": {
    "tags": []
   },
   "outputs": [
    {
     "name": "stdout",
     "output_type": "stream",
     "text": [
      "Overwriting nextflow.config\n"
     ]
    }
   ],
   "source": [
    "%%writefile nextflow.config\n",
    "\n",
    "process {\n",
    "    withLabel: download_data {\n",
    "        executor = 'local'\n",
    "    }\n",
    "    withLabel: publish_data {\n",
    "        executor = 'local'\n",
    "    }\n",
    "    withLabel: dcm2png {\n",
    "        executor = 'local'\n",
    "    }\n",
    "}\n",
    "\n",
    "workDir = 'sdk_data'"
   ]
  },
  {
   "cell_type": "markdown",
   "id": "874e4ee7-848c-432c-aa45-d434c033da06",
   "metadata": {},
   "source": [
    "# Pull some midrc guids to test and move dcm files to midrc_dicom directory"
   ]
  },
  {
   "cell_type": "code",
   "execution_count": 37,
   "id": "f8249966-23a5-477d-9a69-66aa55f71991",
   "metadata": {
    "tags": []
   },
   "outputs": [
    {
     "name": "stdout",
     "output_type": "stream",
     "text": [
      "Overwriting download_data.py\n"
     ]
    }
   ],
   "source": [
    "%%writefile download_data.py\n",
    "\n",
    "import gen3\n",
    "import os\n",
    "\n",
    "output_dir = 'data'\n",
    "\n",
    "guids = ['dg.MD1R/ea669b5e-ae51-40ba-b375-ed23a9cd1855',\n",
    "         'dg.MD1R/a745ed98-0cb9-4537-826b-13b2e354e8bb',\n",
    "         'dg.MD1R/e604979a-c71b-4ec6-b8a0-959837b86384',\n",
    "         'dg.MD1R/b5cee98d-46ff-4438-aa00-90727a383340',\n",
    "         'dg.MD1R/8a5a5579-7925-432d-a614-3ed208f1c182',\n",
    "         'dg.MD1R/33034812-47f3-4c0e-b60b-fa7a2a04ecda',\n",
    "         'dg.MD1R/5ca987c5-c660-4785-a67d-a3424cc8ec6e',\n",
    "         'dg.MD1R/44148117-1858-49ef-b30f-d239abfaff80',\n",
    "         'dg.MD1R/9ea205e8-a774-4318-a323-95eadda9bc5c',\n",
    "         'dg.MD1R/09ece36f-a0fa-48e8-8fc2-62110eaae570']\n",
    "\n",
    "midrc_creds_file = \"/home/jovyan/pd/midrc_credentials.json\"\n",
    "endpoint = 'data.midrc.org'\n",
    "\n",
    "for guid in guids:\n",
    "    print('pulling guid {}'.format(guid))\n",
    "    os.system(\"gen3 --auth {} --endpoint {} drs-pull object {}\".format(midrc_creds_file, endpoint, guid))\n",
    "    #os.system(\"time.sleep(3)\")"
   ]
  },
  {
   "cell_type": "code",
   "execution_count": 27,
   "id": "218a718b-15e0-4c85-9710-8c179e28183f",
   "metadata": {
    "tags": []
   },
   "outputs": [
    {
     "name": "stdout",
     "output_type": "stream",
     "text": [
      "Overwriting convert_dcm_to_png.py\n"
     ]
    }
   ],
   "source": [
    "%%writefile convert_dcm_to_png.py\n",
    "\n",
    "\n",
    "import pydicom\n",
    "import argparse\n",
    "import numpy as np\n",
    "from PIL import Image\n",
    "import os\n",
    "\n",
    "def main(dicom_inputs):\n",
    "    for dicom_file in dicom_inputs:\n",
    "        png_out = dicom_file.split('.dcm')[0] + '.png'\n",
    "        dicom_dataset = pydicom.dcmread(dicom_file)\n",
    "        transformed_image = dicom_dataset.pixel_array.astype(float)\n",
    "        scaled_image = np.uint8((np.maximum(transformed_image, 0) / transformed_image.max()) * 255.0)\n",
    "        final_image = Image.fromarray(scaled_image)\n",
    "        final_image.save(png_out)\n",
    "\n",
    "if __name__ == '__main__':\n",
    "    parser = argparse.ArgumentParser(description='convert dicom to png')\n",
    "    parser.add_argument('--dicom-inputs', dest='dicom_inputs', nargs = '+', required=True)\n",
    "    args = parser.parse_args()\n",
    "\n",
    "    main(args.dicom_inputs)"
   ]
  },
  {
   "cell_type": "code",
   "execution_count": 28,
   "id": "f9237321-636e-4fce-8726-c3e7448caa1d",
   "metadata": {
    "tags": []
   },
   "outputs": [
    {
     "name": "stdout",
     "output_type": "stream",
     "text": [
      "Overwriting main.nf\n"
     ]
    }
   ],
   "source": [
    "%%writefile main.nf\n",
    "#!/usr/bin/env nextflow\n",
    "\n",
    "process DownloadData {\n",
    "    \n",
    "    label 'download_data'\n",
    "    \n",
    "    tag 'initial_task'\n",
    "    \n",
    "    output:\n",
    "    stdout emit: download_data_log\n",
    "    path('**/*.dcm'), emit: dicom_image\n",
    "    \n",
    "    script:\n",
    "    \"\"\"\n",
    "    python3 ${baseDir}/download_data.py\n",
    "    \"\"\"\n",
    "}\n",
    "\n",
    "process PublishData {\n",
    "    \n",
    "    label 'publish_data'\n",
    "    \n",
    "    publishDir \"${baseDir}/dicom_files\", mode: 'copy'\n",
    "    \n",
    "    input:\n",
    "    path(dicom_image) \n",
    "    \n",
    "    output:\n",
    "    stdout emit: convert_to_png_log\n",
    "    \n",
    "    script:\n",
    "    \"\"\"\n",
    "    echo $dicom_image\n",
    "    \"\"\"\n",
    "}\n",
    "\n",
    "process convert_dcm_to_png {\n",
    "    \n",
    "    label 'dcm2png'\n",
    "    \n",
    "    input:\n",
    "    path(dicom_image) \n",
    "    \n",
    "    output:\n",
    "    stdout emit: convert_to_png_log\n",
    "    path('*.png'), emit: png_image\n",
    "    \n",
    "    script:\n",
    "    \"\"\"\n",
    "    python3 ${baseDir}/convert_dcm_to_png.py --dicom-inputs $dicom_image\n",
    "    \"\"\"\n",
    "}\n",
    "// Define the entry workflow (initial workflow for Nextflow to run)\n",
    "workflow {\n",
    "    DownloadData()\n",
    "    PublishData(DownloadData.out.dicom_image)\n",
    "    convert_dcm_to_png(DownloadData.out.dicom_image)\n",
    "}\n"
   ]
  },
  {
   "cell_type": "code",
   "execution_count": 41,
   "id": "83db393f-0223-466b-bd13-546c5f52e8e1",
   "metadata": {
    "tags": []
   },
   "outputs": [
    {
     "name": "stdout",
     "output_type": "stream",
     "text": [
      "N E X T F L O W  ~  version 21.10.6\n",
      "Launching `main.nf` [spontaneous_wing] - revision: 19d1d0ed2e\n",
      "[-        ] process > DownloadData       [  0%] 0 of 1\u001b[K\n",
      "[-        ] process > PublishData        -\u001b[K\n",
      "[-        ] process > convert_dcm_to_png -\u001b[K\n",
      "\u001b[4A\n",
      "executor >  local (1)\u001b[K\n",
      "[61/3ba9b2] process > DownloadData (initial_task) [  0%] 0 of 1\u001b[K\n",
      "[-        ] process > PublishData                 -\u001b[K\n",
      "[-        ] process > convert_dcm_to_png          -\u001b[K\n",
      "\u001b[5A\n",
      "executor >  local (1)\u001b[K\n",
      "[61/3ba9b2] process > DownloadData (initial_task) [100%] 1 of 1 ✔\u001b[K\n",
      "[-        ] process > PublishData                 -\u001b[K\n",
      "[-        ] process > convert_dcm_to_png          -\u001b[K\n",
      "\u001b[5A\n",
      "executor >  local (2)\u001b[K\n",
      "[61/3ba9b2] process > DownloadData (initial_task) [100%] 1 of 1 ✔\u001b[K\n",
      "[-        ] process > PublishData                 [  0%] 0 of 1\u001b[K\n",
      "[35/7b1283] process > convert_dcm_to_png          [  0%] 0 of 1\u001b[K\n",
      "\u001b[5A\n",
      "executor >  local (3)\u001b[K\n",
      "[61/3ba9b2] process > DownloadData (initial_task) [100%] 1 of 1 ✔\u001b[K\n",
      "[03/9409a5] process > PublishData                 [  0%] 0 of 1\u001b[K\n",
      "[35/7b1283] process > convert_dcm_to_png          [100%] 1 of 1 ✔\u001b[K\n",
      "\u001b[5A\n",
      "executor >  local (3)\u001b[K\n",
      "[61/3ba9b2] process > DownloadData (initial_task) [100%] 1 of 1 ✔\u001b[K\n",
      "[03/9409a5] process > PublishData                 [100%] 1 of 1 ✔\u001b[K\n",
      "[35/7b1283] process > convert_dcm_to_png          [100%] 1 of 1 ✔\u001b[K\n",
      "\n"
     ]
    }
   ],
   "source": [
    "!nextflow run main.nf -dsl2"
   ]
  },
  {
   "cell_type": "code",
   "execution_count": null,
   "id": "da3bb932-75dc-4a4a-8348-8feaa76828b7",
   "metadata": {},
   "outputs": [],
   "source": []
  }
 ],
 "metadata": {
  "kernelspec": {
   "display_name": "Python 3 (ipykernel)",
   "language": "python",
   "name": "python3"
  },
  "language_info": {
   "codemirror_mode": {
    "name": "ipython",
    "version": 3
   },
   "file_extension": ".py",
   "mimetype": "text/x-python",
   "name": "python",
   "nbconvert_exporter": "python",
   "pygments_lexer": "ipython3",
   "version": "3.10.9"
  }
 },
 "nbformat": 4,
 "nbformat_minor": 5
}
