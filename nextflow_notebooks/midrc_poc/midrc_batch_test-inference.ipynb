{
 "cells": [
  {
   "cell_type": "code",
   "execution_count": 1,
   "id": "e5bd3cee-7501-4085-87d6-50c9a2561906",
   "metadata": {},
   "outputs": [],
   "source": [
    "!pip install -q awscli"
   ]
  },
  {
   "cell_type": "code",
   "execution_count": 52,
   "id": "42fbedd9-d0b0-4c2a-9751-5aa689283fc3",
   "metadata": {},
   "outputs": [],
   "source": [
    "import os\n",
    "import pandas as pd"
   ]
  },
  {
   "cell_type": "code",
   "execution_count": 29,
   "id": "931ea721-8893-4060-93ae-7a603e8aa935",
   "metadata": {
    "tags": []
   },
   "outputs": [
    {
     "name": "stdout",
     "output_type": "stream",
     "text": [
      "Overwriting main.nf\n"
     ]
    }
   ],
   "source": [
    "%%writefile main.nf\n",
    "#!/usr/bin/env nextflow\n",
    "\n",
    "/* pipeline input parameters, update this to your data dir */\n",
    "dicom_data = \"$baseDir/path_to_local_dicom_files/*.dcm\"\n",
    "\n",
    "process inference {\n",
    "    \n",
    "    label 'inference'\n",
    "    \n",
    "    input:\n",
    "    path dicom_files\n",
    "    \n",
    "    output:\n",
    "    stdout emit: perform_inference_log\n",
    "    path('*.csv'), emit: csv_files\n",
    "    \n",
    "    script:\n",
    "    \"\"\"\n",
    "    #!/usr/bin/env python3\n",
    "\n",
    "    import pandas as pd\n",
    "    import os\n",
    "    import argparse\n",
    "    from dicom_csv import join_tree\n",
    "    \n",
    "    dicom_input = '$dicom_files'\n",
    "    inference_results_csv = f'inference_results_{dicom_input}.csv'\n",
    "\n",
    "    def main(dicom_input, inference_results_csv):\n",
    "        metadata_df = join_tree('.', verbose=2)\n",
    "        dicom_metadata_df = metadata_df.loc[metadata_df['PixelRepresentation'].notnull()]\n",
    "        dicom_metadata_df.drop_duplicates(inplace=True)\n",
    "        inference_results = pd.DataFrame({'Results': dicom_metadata_df['BodyPartExamined'] == 'CHEST'})\n",
    "        return inference_results.to_csv(inference_results_csv)\n",
    "\n",
    "    if __name__ == '__main__':\n",
    "        main(dicom_input, inference_results_csv)    \n",
    "    \"\"\"\n",
    "\n",
    "}\n",
    "\n",
    "\n",
    "// Define the entry workflow (initial workflow for Nextflow to run)\n",
    "workflow {\n",
    "    // def dicom_files = Channel.fromPath(dicom_data).buffer(size: 2)\n",
    "    dicom_files = Channel.fromPath(dicom_data)\n",
    "    inference(dicom_files)\n",
    "}"
   ]
  },
  {
   "cell_type": "code",
   "execution_count": 30,
   "id": "dca4c178-d739-4c04-850a-c756ff5429a5",
   "metadata": {
    "tags": []
   },
   "outputs": [
    {
     "name": "stdout",
     "output_type": "stream",
     "text": [
      "Overwriting nextflow.config\n"
     ]
    }
   ],
   "source": [
    "%%writefile nextflow.config\n",
    "\n",
    "process {\n",
    "    withLabel: inference {\n",
    "        executor = 'awsbatch'\n",
    "        queue = 'placeholder'\n",
    "        container = 'public.ecr.aws/l5b8a5z6/nextflow-approved:batch_poc2'\n",
    "    } \n",
    "}\n",
    "\n",
    "aws {\n",
    "    region = 'us-east-1'\n",
    "    batch {\n",
    "        cliPath = '/home/ec2-user/miniconda/bin/aws'\n",
    "        jobRole = 'placeholder'\n",
    "    }\n",
    "}\n",
    "workDir = 'placeholder'\n",
    "\n",
    "\n",
    "docker.enabled = true"
   ]
  },
  {
   "cell_type": "code",
   "execution_count": 31,
   "id": "c11295b2-2cf7-4b6d-a280-1e40b2bc3c37",
   "metadata": {
    "tags": []
   },
   "outputs": [
    {
     "name": "stdout",
     "output_type": "stream",
     "text": [
      "N E X T F L O W  ~  version 22.10.6\n",
      "Launching `main.nf` [tender_kalam] DSL2 - revision: 05d4d0b9ff\n",
      "Downloading plugin nf-amazon@1.11.3\n",
      "[-        ] process > inference -\u001b[K\n",
      "\u001b[2A\n",
      "[-        ] process > inference [  0%] 0 of 2\u001b[K\n",
      "\u001b[2A\n",
      "[-        ] process > inference [  0%] 0 of 4\u001b[K\n",
      "\u001b[2A\n",
      "[-        ] process > inference [  0%] 0 of 5\u001b[K\n",
      "\u001b[2A\n",
      "executor >  awsbatch (5)\u001b[K\n",
      "[26/ab25e0] process > inference (5) [  0%] 0 of 5\u001b[K\n",
      "\u001b[3A\n",
      "executor >  awsbatch (5)\u001b[K\n",
      "[26/ab25e0] process > inference (5) [  0%] 0 of 5\u001b[K\n",
      "\u001b[3A\n",
      "executor >  awsbatch (5)\u001b[K\n",
      "[26/ab25e0] process > inference (5) [  0%] 0 of 5\u001b[K\n",
      "\u001b[3A\n",
      "executor >  awsbatch (5)\u001b[K\n",
      "[fc/a648ba] process > inference (1) [ 40%] 2 of 5\u001b[K\n",
      "\u001b[3A\n",
      "executor >  awsbatch (5)\u001b[K\n",
      "[26/ab25e0] process > inference (5) [ 60%] 3 of 5\u001b[K\n",
      "\u001b[3A\n",
      "executor >  awsbatch (5)\u001b[K\n",
      "[39/d6fbfc] process > inference (4) [ 80%] 4 of 5\u001b[K\n",
      "\u001b[3A\n",
      "executor >  awsbatch (5)\u001b[K\n",
      "[f7/05506c] process > inference (2) [100%] 5 of 5 ✔\u001b[K\n",
      "\u001b[32;1mCompleted at: 21-Dec-2023 19:24:43\n",
      "Duration    : 3m 1s\n",
      "CPU hours   : (a few seconds)\n",
      "Succeeded   : 5\n",
      "\u001b[22;39m\u001b[K\n",
      "\n"
     ]
    }
   ],
   "source": [
    "!nextflow run main.nf -dsl2"
   ]
  },
  {
   "cell_type": "code",
   "execution_count": 90,
   "id": "3a824a3f-73fe-4f3e-94b2-7d233a12b9b2",
   "metadata": {},
   "outputs": [],
   "source": [
    "# Get batch endpoints\n",
    "end_points = []\n",
    "with open(\".nextflow.log\", 'r') as f:\n",
    "    for line in f:\n",
    "        if \"COMPLETED\" in line:\n",
    "            end_points.append(line.split(' ')[-1][:-2])"
   ]
  },
  {
   "cell_type": "code",
   "execution_count": 91,
   "id": "8b9fac66-e0ad-4d36-a4c2-8be3f7679a7f",
   "metadata": {},
   "outputs": [],
   "source": [
    "# Download inference results from each batch session\n",
    "for i in range(len(end_points)):\n",
    "    command = f'aws s3 cp {end_points[i]}/ ./place_holder/ --recursive --exclude \"*\" --include \"inference_results_*\" --quiet'\n",
    "    os.system(command)"
   ]
  },
  {
   "cell_type": "code",
   "execution_count": 92,
   "id": "520b6ec2-b1b2-47e0-9bfb-bdc38c299997",
   "metadata": {},
   "outputs": [
    {
     "data": {
      "text/html": [
       "<div>\n",
       "<style scoped>\n",
       "    .dataframe tbody tr th:only-of-type {\n",
       "        vertical-align: middle;\n",
       "    }\n",
       "\n",
       "    .dataframe tbody tr th {\n",
       "        vertical-align: top;\n",
       "    }\n",
       "\n",
       "    .dataframe thead th {\n",
       "        text-align: right;\n",
       "    }\n",
       "</style>\n",
       "<table border=\"1\" class=\"dataframe\">\n",
       "  <thead>\n",
       "    <tr style=\"text-align: right;\">\n",
       "      <th></th>\n",
       "      <th>Results</th>\n",
       "      <th>Label</th>\n",
       "    </tr>\n",
       "  </thead>\n",
       "  <tbody>\n",
       "    <tr>\n",
       "      <th>0</th>\n",
       "      <td>True</td>\n",
       "      <td>1-034</td>\n",
       "    </tr>\n",
       "    <tr>\n",
       "      <th>0</th>\n",
       "      <td>True</td>\n",
       "      <td>1-53</td>\n",
       "    </tr>\n",
       "    <tr>\n",
       "      <th>0</th>\n",
       "      <td>True</td>\n",
       "      <td>1-008</td>\n",
       "    </tr>\n",
       "    <tr>\n",
       "      <th>0</th>\n",
       "      <td>True</td>\n",
       "      <td>1-273</td>\n",
       "    </tr>\n",
       "    <tr>\n",
       "      <th>0</th>\n",
       "      <td>True</td>\n",
       "      <td>1-0163</td>\n",
       "    </tr>\n",
       "  </tbody>\n",
       "</table>\n",
       "</div>"
      ],
      "text/plain": [
       "   Results   Label\n",
       "0     True   1-034\n",
       "0     True    1-53\n",
       "0     True   1-008\n",
       "0     True   1-273\n",
       "0     True  1-0163"
      ]
     },
     "execution_count": 92,
     "metadata": {},
     "output_type": "execute_result"
    }
   ],
   "source": [
    "# Combine inference results from each batch session and remove the temporary files\n",
    "files = os.listdir('place_holder/')\n",
    "results_df = pd.DataFrame()\n",
    "for file in files:\n",
    "    if file[-3:] == 'csv':\n",
    "        label = file.split('_')[-1].split('.')[0]\n",
    "        temp_df = pd.read_csv('place_holder/' + file)\n",
    "        temp_df.drop('Unnamed: 0', axis=1, inplace=True)\n",
    "        temp_df['Label'] = label\n",
    "        results_df = pd.concat([results_df, temp_df])\n",
    "\n",
    "results_df.to_csv('midrc_batch_inference_results.csv', index=False)\n",
    "os.system('rm -r place_holder')\n",
    "results_df"
   ]
  },
  {
   "cell_type": "code",
   "execution_count": null,
   "id": "d17a1bbf-aa00-4719-b471-e36f6351458c",
   "metadata": {},
   "outputs": [],
   "source": []
  }
 ],
 "metadata": {
  "kernelspec": {
   "display_name": "Python 3 (ipykernel)",
   "language": "python",
   "name": "python3"
  },
  "language_info": {
   "codemirror_mode": {
    "name": "ipython",
    "version": 3
   },
   "file_extension": ".py",
   "mimetype": "text/x-python",
   "name": "python",
   "nbconvert_exporter": "python",
   "pygments_lexer": "ipython3",
   "version": "3.9.6"
  }
 },
 "nbformat": 4,
 "nbformat_minor": 5
}
