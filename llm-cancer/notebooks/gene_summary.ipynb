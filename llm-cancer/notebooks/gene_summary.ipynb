{
 "cells": [
  {
   "cell_type": "code",
   "execution_count": 1,
   "id": "9ea3abf8-ad58-40ab-be9d-c89a1a10f12c",
   "metadata": {},
   "outputs": [],
   "source": [
    "import json\n",
    "import numpy as np"
   ]
  },
  {
   "cell_type": "markdown",
   "id": "d5c72155-6471-4d80-bc2d-367be52cca3f",
   "metadata": {},
   "source": [
    "## Gene summary GDC REST API method"
   ]
  },
  {
   "cell_type": "code",
   "execution_count": 2,
   "id": "37b382cb-fbde-4806-b7a7-d61d7f36d339",
   "metadata": {},
   "outputs": [
    {
     "name": "stdout",
     "output_type": "stream",
     "text": [
      "  % Total    % Received % Xferd  Average Speed   Time    Time     Time  Current\n",
      "                                 Dload  Upload   Total   Spent    Left  Speed\n",
      "100  1081  100  1081    0     0   7244      0 --:--:-- --:--:-- --:--:--  7404\n"
     ]
    }
   ],
   "source": [
    "# import gene summary -- using GDC REST API method\n",
    "!curl \"https://api.gdc.cancer.gov/genes/ENSG00000164199?pretty=true&format=json\" -o adgrv1.json"
   ]
  },
  {
   "cell_type": "code",
   "execution_count": 3,
   "id": "7eaa2add-5172-4811-8a54-e57d63d2ec44",
   "metadata": {},
   "outputs": [],
   "source": [
    "with open('adgrv1.json') as adgrv1_summary:\n",
    "    gene_summary = json.load(adgrv1_summary)\n"
   ]
  },
  {
   "cell_type": "code",
   "execution_count": 4,
   "id": "b1efba64-b11d-4fa7-b708-bae87d00a2d2",
   "metadata": {},
   "outputs": [
    {
     "data": {
      "text/plain": [
       "{'data': {'biotype': 'protein_coding',\n",
       "  'symbol': 'ADGRV1',\n",
       "  'canonical_transcript_length_genomic': 605641,\n",
       "  'cytoband': ['5q14.3'],\n",
       "  'canonical_transcript_length': 19557,\n",
       "  'synonyms': ['DKFZp761P0710',\n",
       "   'FEB4',\n",
       "   'GPR98',\n",
       "   'KIAA0686',\n",
       "   'MASS1',\n",
       "   'USH2C',\n",
       "   'VLGR1'],\n",
       "  'description': 'This gene encodes a member of the G-protein coupled receptor superfamily. The encoded protein contains a 7-transmembrane receptor domain, binds calcium and is expressed in the central nervous system. Mutations in this gene are associated with Usher syndrome 2 and familial febrile seizures. Several alternatively spliced transcripts have been described. [provided by RefSeq, Jul 2008]',\n",
       "  'canonical_transcript_length_cds': 18918,\n",
       "  'gene_chromosome': '5',\n",
       "  'gene_end': 91164437,\n",
       "  'canonical_transcript_id': 'ENST00000405460',\n",
       "  'gene_strand': 1,\n",
       "  'gene_start': 90529344,\n",
       "  'name': 'adhesion G protein-coupled receptor V1',\n",
       "  'gene_id': 'ENSG00000164199'},\n",
       " 'warnings': {}}"
      ]
     },
     "execution_count": 4,
     "metadata": {},
     "output_type": "execute_result"
    }
   ],
   "source": [
    "gene_summary "
   ]
  },
  {
   "cell_type": "code",
   "execution_count": 5,
   "id": "48d93eeb-828f-4fb6-89c9-6777a0f537f3",
   "metadata": {},
   "outputs": [
    {
     "data": {
      "text/plain": [
       "'ADGRV1'"
      ]
     },
     "execution_count": 5,
     "metadata": {},
     "output_type": "execute_result"
    }
   ],
   "source": [
    "gene_summary['data']['symbol']"
   ]
  },
  {
   "cell_type": "code",
   "execution_count": 6,
   "id": "1676501d-4d5b-4d14-9d00-90283ef91e51",
   "metadata": {},
   "outputs": [],
   "source": [
    "json_to_text = \"The gene {} is a {} {} on cytoband {} with a canonical transcript length of {}. Synonyms for {} are {}.{}\".format(\n",
    "    gene_summary['data']['symbol'], \n",
    "    gene_summary['data']['biotype'],\n",
    "    gene_summary['data']['name'],\n",
    "    gene_summary['data']['cytoband'][0],\n",
    "    gene_summary['data']['canonical_transcript_length'],\n",
    "    gene_summary['data']['symbol'], \n",
    "    ','.join(gene_summary['data']['synonyms']),\n",
    "    gene_summary['data']['description'],\n",
    ")\n"
   ]
  },
  {
   "cell_type": "code",
   "execution_count": 7,
   "id": "3becdd54-52bc-48c0-a16c-58dfae6ef5bc",
   "metadata": {},
   "outputs": [
    {
     "data": {
      "text/plain": [
       "'The gene ADGRV1 is a protein_coding adhesion G protein-coupled receptor V1 on cytoband 5q14.3 with a canonical transcript length of 19557. Synonyms for ADGRV1 are DKFZp761P0710,FEB4,GPR98,KIAA0686,MASS1,USH2C,VLGR1.This gene encodes a member of the G-protein coupled receptor superfamily. The encoded protein contains a 7-transmembrane receptor domain, binds calcium and is expressed in the central nervous system. Mutations in this gene are associated with Usher syndrome 2 and familial febrile seizures. Several alternatively spliced transcripts have been described. [provided by RefSeq, Jul 2008]'"
      ]
     },
     "execution_count": 7,
     "metadata": {},
     "output_type": "execute_result"
    }
   ],
   "source": [
    "json_to_text"
   ]
  },
  {
   "cell_type": "code",
   "execution_count": 8,
   "id": "6e64f008-8791-4d59-801f-577e0e672379",
   "metadata": {},
   "outputs": [],
   "source": [
    "with open('adgrv1_blurb.txt', 'a') as gene_blurb:\n",
    "    gene_blurb.write(json_to_text)\n",
    "    gene_blurb.write('\\n')"
   ]
  },
  {
   "cell_type": "markdown",
   "id": "1f43c078-87a6-47a0-9f1d-eae8d94883ae",
   "metadata": {},
   "source": [
    "## Gene summary GDC API/Python "
   ]
  },
  {
   "cell_type": "code",
   "execution_count": 9,
   "id": "ac9c9aa2-e8df-402b-8357-d248048b4d36",
   "metadata": {},
   "outputs": [],
   "source": [
    "import requests"
   ]
  },
  {
   "cell_type": "code",
   "execution_count": 10,
   "id": "08f2f1b1-f592-4616-ab70-78e7bd239614",
   "metadata": {},
   "outputs": [],
   "source": [
    "genes_endpt = \"https://api.gdc.cancer.gov/genes\"\n",
    "# get default fields, not specifying fields"
   ]
  },
  {
   "cell_type": "code",
   "execution_count": 11,
   "id": "23e105a6-4560-49a6-a8fd-25a81133b04b",
   "metadata": {},
   "outputs": [],
   "source": [
    "filters = {\n",
    " \"op\": \"in\",\n",
    " \"content\": {\n",
    "   \"field\": \"gene_id\",\n",
    "   \"value\": [\"ENSG00000164199\"]\n",
    " }\n",
    "}"
   ]
  },
  {
   "cell_type": "code",
   "execution_count": 12,
   "id": "14e2aa4e-f2e8-4411-b398-ef6e1d7e24f5",
   "metadata": {},
   "outputs": [],
   "source": [
    "params = {\n",
    "  \"filters\": json.dumps(filters),\n",
    "  \"format\": \"JSON\"\n",
    "}"
   ]
  },
  {
   "cell_type": "code",
   "execution_count": 13,
   "id": "91cf24d1-fc99-4173-8d2d-70108721bc9a",
   "metadata": {},
   "outputs": [],
   "source": [
    "response = requests.get(genes_endpt, params = params)"
   ]
  },
  {
   "cell_type": "code",
   "execution_count": 14,
   "id": "62161474-ac1b-4305-b456-e4ba26463fbe",
   "metadata": {},
   "outputs": [
    {
     "name": "stdout",
     "output_type": "stream",
     "text": [
      "{\n",
      "  \"data\": {\n",
      "    \"hits\": [\n",
      "      {\n",
      "        \"id\": \"ENSG00000164199\",\n",
      "        \"biotype\": \"protein_coding\",\n",
      "        \"symbol\": \"ADGRV1\",\n",
      "        \"canonical_transcript_length_genomic\": 605641,\n",
      "        \"cytoband\": [\n",
      "          \"5q14.3\"\n",
      "        ],\n",
      "        \"canonical_transcript_length\": 19557,\n",
      "        \"synonyms\": [\n",
      "          \"DKFZp761P0710\",\n",
      "          \"FEB4\",\n",
      "          \"GPR98\",\n",
      "          \"KIAA0686\",\n",
      "          \"MASS1\",\n",
      "          \"USH2C\",\n",
      "          \"VLGR1\"\n",
      "        ],\n",
      "        \"description\": \"This gene encodes a member of the G-protein coupled receptor superfamily. The encoded protein contains a 7-transmembrane receptor domain, binds calcium and is expressed in the central nervous system. Mutations in this gene are associated with Usher syndrome 2 and familial febrile seizures. Several alternatively spliced transcripts have been described. [provided by RefSeq, Jul 2008]\",\n",
      "        \"canonical_transcript_length_cds\": 18918,\n",
      "        \"gene_chromosome\": \"5\",\n",
      "        \"gene_end\": 91164437,\n",
      "        \"canonical_transcript_id\": \"ENST00000405460\",\n",
      "        \"gene_strand\": 1,\n",
      "        \"gene_start\": 90529344,\n",
      "        \"name\": \"adhesion G protein-coupled receptor V1\",\n",
      "        \"gene_id\": \"ENSG00000164199\"\n",
      "      }\n",
      "    ],\n",
      "    \"pagination\": {\n",
      "      \"count\": 1,\n",
      "      \"total\": 1,\n",
      "      \"size\": 10,\n",
      "      \"from\": 0,\n",
      "      \"sort\": \"\",\n",
      "      \"page\": 1,\n",
      "      \"pages\": 1\n",
      "    }\n",
      "  },\n",
      "  \"warnings\": {}\n",
      "}\n"
     ]
    }
   ],
   "source": [
    "print(json.dumps(response.json(), indent=2))"
   ]
  },
  {
   "cell_type": "markdown",
   "id": "b6f733e3-2187-4e99-bc8c-2d1f4c820370",
   "metadata": {},
   "source": [
    "## Get all ssm in a gene, GDC API method"
   ]
  },
  {
   "cell_type": "code",
   "execution_count": 15,
   "id": "e7331caa-5824-4e08-b0e6-c76df7f91138",
   "metadata": {},
   "outputs": [],
   "source": [
    "ssms_endpt = \"https://api.gdc.cancer.gov/ssms\""
   ]
  },
  {
   "cell_type": "code",
   "execution_count": 16,
   "id": "1e8dd8cd-cf26-406f-af6f-ca323f1e671b",
   "metadata": {},
   "outputs": [
    {
     "data": {
      "text/plain": [
       "'\\nNote: if you set fields to this list \\nand pass it to params {}, it will only\\nshow these in the output\\n\\nfields = [\"chromosome\"]\\n\\nfields = \",\".join(fields)\\n'"
      ]
     },
     "execution_count": 16,
     "metadata": {},
     "output_type": "execute_result"
    }
   ],
   "source": [
    "# lets see if we can filter based on gene start and gene end, from gene summary\n",
    "# gene start = 90529344\n",
    "# gene end = 91164437\n",
    "# gene chromosome = 5\n",
    "\n",
    "\"\"\"\n",
    "Note: if you set fields to this list \n",
    "and pass it to params {}, it will only\n",
    "show these in the output\n",
    "\n",
    "fields = [\\\"chromosome\\\"]\n",
    "\n",
    "fields = \",\".join(fields)\n",
    "\"\"\"\n"
   ]
  },
  {
   "cell_type": "code",
   "execution_count": 17,
   "id": "a06f1b25-042b-424e-b7a6-b414d515a0f8",
   "metadata": {},
   "outputs": [],
   "source": [
    "#filters includes format, field and size, see page 10 of GDC API guide\n",
    "# you can pass these in the params dict\n",
    "\n",
    "filters = {\n",
    " \"op\": \"and\",\n",
    "    \"content\": [\n",
    "        {\n",
    "            \"op\": \">=\",\n",
    "            \"content\": {\n",
    "                \"field\": \"start_position\",\n",
    "                \"value\": \"90529344\"\n",
    "            }\n",
    "       },\n",
    "       {\n",
    "           \"op\": \"<=\",\n",
    "           \"content\": {\n",
    "               \"field\": \"end_position\",\n",
    "               \"value\": \"91164437\"\n",
    "           }\n",
    "        },\n",
    "        {\n",
    "            \"op\": \"=\",\n",
    "            \"content\": {\n",
    "                \"field\": \"chromosome\",\n",
    "                \"value\": \"chr5\"\n",
    "            }\n",
    "        }\n",
    "    ]\n",
    "}\n"
   ]
  },
  {
   "cell_type": "code",
   "execution_count": 18,
   "id": "b6b7c2bd-e4e0-4844-b2e2-57161d7fd6e2",
   "metadata": {},
   "outputs": [],
   "source": [
    "params = {\n",
    "    \"filters\": json.dumps(filters),\n",
    "    #\"fields\": fields,\n",
    "    # somehow passing this below doesn't filter expand\n",
    "    # results by is_canonical\n",
    "    #\"fields\": \"consequence.transcript.is_canonical\", \n",
    "    \"expand\": \"consequence.transcript,consequence.transcript.annotation,occurrence.case,occurrence.case.demographic,occurrence.case.diagnoses,occurrence.case.diagnoses.pathology_details,occurrence.case.diagnoses.treatments,occurrence.case.family_histories,occurrence.case.project,occurrence.case.exposures\",\n",
    "    \"response\": \"JSON\",\n",
    "    \"size\": 2000\n",
    "}"
   ]
  },
  {
   "cell_type": "code",
   "execution_count": 19,
   "id": "6caf2aa2-f8fc-44a2-ae06-14d98cfc0149",
   "metadata": {},
   "outputs": [],
   "source": [
    "response = requests.get(ssms_endpt, params=params)"
   ]
  },
  {
   "cell_type": "code",
   "execution_count": 20,
   "id": "8a7a49e2-a985-4bdc-8797-9ee77e442141",
   "metadata": {},
   "outputs": [],
   "source": [
    "# dump output to file for inspection\n",
    "res = json.dumps(response.json(), indent=2)\n",
    "with open('dump.json', 'w') as res_dump:\n",
    "    res_dump.write(res)"
   ]
  },
  {
   "cell_type": "code",
   "execution_count": 21,
   "id": "143780ab-5fef-4144-a207-8e6869fe51fb",
   "metadata": {},
   "outputs": [
    {
     "name": "stderr",
     "output_type": "stream",
     "text": [
      "IOPub data rate exceeded.\n",
      "The Jupyter server will temporarily stop sending output\n",
      "to the client in order to avoid crashing it.\n",
      "To change this limit, set the config variable\n",
      "`--ServerApp.iopub_data_rate_limit`.\n",
      "\n",
      "Current values:\n",
      "ServerApp.iopub_data_rate_limit=1000000.0 (bytes/sec)\n",
      "ServerApp.rate_limit_window=3.0 (secs)\n",
      "\n"
     ]
    }
   ],
   "source": [
    "print(json.dumps(response.json(), indent=2))"
   ]
  },
  {
   "cell_type": "code",
   "execution_count": 22,
   "id": "5f8c0282-b858-476f-81d9-7b9306f0277c",
   "metadata": {},
   "outputs": [],
   "source": [
    "# lets try to convert info in res to some meaningful text"
   ]
  },
  {
   "cell_type": "code",
   "execution_count": 23,
   "id": "a735a919-6706-4787-8026-dfa9f2f54ca6",
   "metadata": {},
   "outputs": [],
   "source": [
    "res_data = response.json()"
   ]
  },
  {
   "cell_type": "code",
   "execution_count": 24,
   "id": "2b490d34-85d1-42de-ade2-0970b5b56560",
   "metadata": {},
   "outputs": [
    {
     "data": {
      "text/plain": [
       "1648"
      ]
     },
     "execution_count": 24,
     "metadata": {},
     "output_type": "execute_result"
    }
   ],
   "source": [
    "len(res_data['data']['hits'])"
   ]
  },
  {
   "cell_type": "markdown",
   "id": "778e8a59-7783-40a7-b5a9-780aa2c0a321",
   "metadata": {},
   "source": [
    "## fun part: translate that information into meaningful text"
   ]
  },
  {
   "cell_type": "code",
   "execution_count": 25,
   "id": "55f8b5bb-5ad9-4d53-81b7-a72ca8c2254e",
   "metadata": {},
   "outputs": [],
   "source": [
    "# need to pass gene name as arg\n",
    "mutation_summary = \"There are {} somatic mutations reported in the Genomic Data Commons in gene ADGRV1, located on chromosome {}\".format(\n",
    "    len(res_data['data']['hits']),\n",
    "    res_data['data']['hits'][0]['chromosome']\n",
    ")"
   ]
  },
  {
   "cell_type": "code",
   "execution_count": 26,
   "id": "bc1d0c23-5d87-4493-9235-1ec1d008fdb9",
   "metadata": {},
   "outputs": [
    {
     "data": {
      "text/plain": [
       "'There are 1648 somatic mutations reported in the Genomic Data Commons in gene ADGRV1, located on chromosome chr5'"
      ]
     },
     "execution_count": 26,
     "metadata": {},
     "output_type": "execute_result"
    }
   ],
   "source": [
    "mutation_summary"
   ]
  },
  {
   "cell_type": "code",
   "execution_count": 27,
   "id": "27297b3c-955c-483b-a3ef-a92c309a78e4",
   "metadata": {},
   "outputs": [],
   "source": [
    "occurrence_list = []"
   ]
  },
  {
   "cell_type": "code",
   "execution_count": 28,
   "id": "1dcf7f54-b739-48b8-b39f-c854dc2697f7",
   "metadata": {},
   "outputs": [],
   "source": [
    "for idx, h in enumerate(res_data['data']['hits']):\n",
    "    occurrence_list = []\n",
    "    treatment_list = []\n",
    "    chromosomal_pos = h['genomic_dna_change']\n",
    "    occurrence_list.append(\"Genomic DNA change {} at start position {} is a {}. \".format(\n",
    "         h['genomic_dna_change'], h['start_position'], h['mutation_subtype']\n",
    "    ))\n",
    "    for idx2, h2 in enumerate(h['gene_aa_change']):\n",
    "        gene_name, aa_change = h2.split(' ')\n",
    "    for idx3, consequence in enumerate(h['consequence']):\n",
    "        try:\n",
    "            consequence['transcript']['aa_change']\n",
    "            occurrence_list.append(\"{} corresponds to amino acid change {} in gene {} with \" \\\n",
    "                                   \"transcript_id {} and refseq accession {}. \" \\\n",
    "                                   \"Consequences of {} mutation in transcript_id {}, specifically \" \\\n",
    "                                   \"the amino acid change {} is a {} with {} VEP impact. \" \\\n",
    "                                   \"hgvsc annotation for {} is {}. hgvsp annotation for {} is {} .\".format(\n",
    "                chromosomal_pos,\n",
    "                consequence['transcript']['aa_change'],\n",
    "                gene_name,\n",
    "                consequence['transcript']['transcript_id'],\n",
    "                consequence['transcript']['ref_seq_accession'],\n",
    "                chromosomal_pos,\n",
    "                consequence['transcript']['transcript_id'],\n",
    "                consequence['transcript']['aa_change'],\n",
    "                consequence['transcript']['consequence_type'],\n",
    "                consequence['transcript']['annotation']['vep_impact'],\n",
    "                chromosomal_pos,\n",
    "                consequence['transcript']['annotation']['hgvsc'],\n",
    "                chromosomal_pos,\n",
    "                consequence['transcript']['annotation']['hgvsp']\n",
    "            ))\n",
    "        except Exception as e:\n",
    "            pass\n",
    "        if consequence['transcript']['is_canonical']:\n",
    "            occurrence_list.append(\"Transcript {} is a canonical transcript for gene {}. \".format(\n",
    "                consequence['transcript']['transcript_id'],\n",
    "                gene_name\n",
    "            ))\n",
    "    try:\n",
    "        for idx4, occurrence in enumerate(h['occurrence']):\n",
    "            occurrence_list.append(\n",
    "                \"In the cases that report {}, alcohol history is {}. \".format(\n",
    "                chromosomal_pos,\n",
    "                occurrence['case']['exposures'][idx4]['alcohol_history']))\n",
    "            occurrence_list.append(\n",
    "                \"The ethnicity of cases reported with {} is {}. \".format(\n",
    "                chromosomal_pos,\n",
    "                occurrence['case']['demographic']['ethnicity']\n",
    "                ))\n",
    "            occurrence_list.append(\n",
    "                \"{} is seen in {} {}. \".format(\n",
    "                    chromosomal_pos,\n",
    "                    occurrence['case']['primary_site'],\n",
    "                    occurrence['case']['disease_type']\n",
    "                ))\n",
    "            for idx5, diag in enumerate(occurrence['case']['diagnoses']):\n",
    "                occurrence_list.append(\n",
    "                    \"{} is diagnosed in ajcc pathologic stage {} with a primary diagnosis of {}. \".format(\n",
    "                    chromosomal_pos,\n",
    "                    diag['ajcc_pathologic_stage'],\n",
    "                    diag['primary_diagnosis']))\n",
    "                occurrence_list.append(\n",
    "                    \"Other ajcc pathologic T, N and M stages for {} are reported to be {}, {} and {} respectively. \".format(\n",
    "                    chromosomal_pos,\n",
    "                    diag['ajcc_pathologic_t'],\n",
    "                    diag['ajcc_pathologic_n'],\n",
    "                    diag['ajcc_pathologic_m']))\n",
    "                occurrence_list.append(\n",
    "                    \"The tissue or organ of origin for {} is {}. \".format(\n",
    "                    chromosomal_pos,\n",
    "                    diag['tissue_or_organ_of_origin']\n",
    "                ))\n",
    "                for idx6, treatments in enumerate(diag['treatments']):\n",
    "                    treatment_list.append(treatments['treatment_type'])\n",
    "            \n",
    "                occurrence_list.append(\n",
    "                    \"Treatment type for {} and primary diagnosis of {} is {}. \".format(\n",
    "                        chromosomal_pos,\n",
    "                        diag['primary_diagnosis'],\n",
    "                        ' '.join(treatment_list)))\n",
    "                \n",
    "        res,ind = np.unique(occurrence_list, return_index=True)\n",
    "        per_variant_blurb = res[np.argsort(ind)]\n",
    "        with open('adgrv1_blurb.txt', 'a') as gene_blurb:\n",
    "            gene_blurb.write(' '.join(per_variant_blurb))\n",
    "            gene_blurb.write('\\n')\n",
    "        #print(' '.join(per_variant_blurb))\n",
    "    except Exception as e:\n",
    "        pass\n",
    "  "
   ]
  },
  {
   "cell_type": "markdown",
   "id": "3bd05099-5f2a-46ed-92cb-bfeb0039a19b",
   "metadata": {},
   "source": [
    "## dummy example"
   ]
  },
  {
   "cell_type": "code",
   "execution_count": 29,
   "id": "7322d640-bb4d-4951-9396-c84dd46e572c",
   "metadata": {},
   "outputs": [],
   "source": [
    "fields = [\n",
    "\"submitter_id\",\n",
    "\"case_id\",\n",
    "\"primary_site\",\n",
    "\"disease_type\",\n",
    "\"diagnoses.vital_status\"\n",
    "]\n",
    "\n",
    "fields = \",\".join(fields)\n",
    "\n",
    "cases_endpt = \"https://api.gdc.cancer.gov/cases\"\n",
    "\n",
    "filters = {\n",
    " \"op\": \"in\",\n",
    " \"content\":{\n",
    " \"field\": \"primary_site\",\n",
    " \"value\": [\"Kidney\"]\n",
    "}\n",
    "}\n",
    "\n",
    "\n",
    "params = {\n",
    "\"filters\": json.dumps(filters),\n",
    "\"fields\": fields,\n",
    "\"format\": \"JSON\",\n",
    "\"size\": \"100\"\n",
    "}\n",
    "\n",
    "response = requests.get(cases_endpt, params = params)\n",
    "\n",
    "#print(json.dumps(response.json(), indent=2))"
   ]
  },
  {
   "cell_type": "code",
   "execution_count": null,
   "id": "7d8ef4cc-25ad-4bb8-89cb-16aea95fd2f9",
   "metadata": {},
   "outputs": [],
   "source": []
  }
 ],
 "metadata": {
  "kernelspec": {
   "display_name": "Python 3 (ipykernel)",
   "language": "python",
   "name": "python3"
  },
  "language_info": {
   "codemirror_mode": {
    "name": "ipython",
    "version": 3
   },
   "file_extension": ".py",
   "mimetype": "text/x-python",
   "name": "python",
   "nbconvert_exporter": "python",
   "pygments_lexer": "ipython3",
   "version": "3.9.16"
  }
 },
 "nbformat": 4,
 "nbformat_minor": 5
}
